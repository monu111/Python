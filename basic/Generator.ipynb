{
 "cells": [
  {
   "cell_type": "code",
   "execution_count": 1,
   "metadata": {},
   "outputs": [],
   "source": [
    "#Generator are type of iterable like list and tuple but they don't allow indexing with arbitary onstant\n",
    "# they can iterated through loop\n",
    "# create using loop and function\n"
   ]
  },
  {
   "cell_type": "code",
   "execution_count": 2,
   "metadata": {},
   "outputs": [
    {
     "name": "stdout",
     "output_type": "stream",
     "text": [
      "[0, 2, 4, 6, 8, 10, 12, 14, 16, 18, 20, 22, 24, 26, 28, 30, 32, 34, 36, 38, 40, 42, 44, 46, 48]\n"
     ]
    }
   ],
   "source": [
    "# find even value using generator\n",
    "def even(n):\n",
    "    for i in range(n):\n",
    "        if i%2 == 0:\n",
    "            yield i\n",
    "print(list(even(50)))\n",
    "            "
   ]
  },
  {
   "cell_type": "code",
   "execution_count": 3,
   "metadata": {},
   "outputs": [
    {
     "name": "stdout",
     "output_type": "stream",
     "text": [
      "['s', 'sp', 'spa', 'spam']\n"
     ]
    }
   ],
   "source": [
    "# s = 'spam' ====>['s','sp','spa','spam']\n",
    "\n",
    "def sample():\n",
    "    s = 'spam'\n",
    "    word = ''\n",
    "    for i in s:\n",
    "        word = word+i\n",
    "        yield word\n",
    "print(list(sample()))\n",
    "        "
   ]
  },
  {
   "cell_type": "code",
   "execution_count": 4,
   "metadata": {},
   "outputs": [
    {
     "name": "stdout",
     "output_type": "stream",
     "text": [
      "['s', 'sp', 'spa', 'spam']\n"
     ]
    }
   ],
   "source": [
    "def sample():\n",
    "    s = 'spam'\n",
    "    word = ''\n",
    "    for i in s:\n",
    "        word = word+i\n",
    "        yield word\n",
    "print(list(sample()))"
   ]
  },
  {
   "cell_type": "code",
   "execution_count": null,
   "metadata": {},
   "outputs": [],
   "source": []
  }
 ],
 "metadata": {
  "kernelspec": {
   "display_name": "Python 3",
   "language": "python",
   "name": "python3"
  },
  "language_info": {
   "codemirror_mode": {
    "name": "ipython",
    "version": 3
   },
   "file_extension": ".py",
   "mimetype": "text/x-python",
   "name": "python",
   "nbconvert_exporter": "python",
   "pygments_lexer": "ipython3",
   "version": "3.8.5"
  }
 },
 "nbformat": 4,
 "nbformat_minor": 4
}
