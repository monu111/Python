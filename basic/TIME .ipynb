{
 "cells": [
  {
   "cell_type": "code",
   "execution_count": 1,
   "metadata": {},
   "outputs": [
    {
     "name": "stdout",
     "output_type": "stream",
     "text": [
      "1573466161.7471166\n"
     ]
    }
   ],
   "source": [
    "import time\n",
    "print(time.time())   # time stamp"
   ]
  },
  {
   "cell_type": "code",
   "execution_count": 2,
   "metadata": {},
   "outputs": [
    {
     "data": {
      "text/plain": [
       "time.struct_time(tm_year=2019, tm_mon=11, tm_mday=11, tm_hour=15, tm_min=26, tm_sec=30, tm_wday=0, tm_yday=315, tm_isdst=0)"
      ]
     },
     "execution_count": 2,
     "metadata": {},
     "output_type": "execute_result"
    }
   ],
   "source": [
    "time.localtime(time.time())"
   ]
  },
  {
   "cell_type": "code",
   "execution_count": 3,
   "metadata": {},
   "outputs": [
    {
     "data": {
      "text/plain": [
       "'Mon Nov 11 15:27:00 2019'"
      ]
     },
     "execution_count": 3,
     "metadata": {},
     "output_type": "execute_result"
    }
   ],
   "source": [
    "time.asctime()"
   ]
  },
  {
   "cell_type": "code",
   "execution_count": 6,
   "metadata": {},
   "outputs": [
    {
     "data": {
      "text/plain": [
       "734089995.0"
      ]
     },
     "execution_count": 6,
     "metadata": {},
     "output_type": "execute_result"
    }
   ],
   "source": [
    "mytuple = (1993,4,6,15,23,15,0,0,0)\n",
    "time.mktime(mytuple)"
   ]
  },
  {
   "cell_type": "code",
   "execution_count": 7,
   "metadata": {},
   "outputs": [
    {
     "name": "stdout",
     "output_type": "stream",
     "text": [
      "hello\n"
     ]
    }
   ],
   "source": [
    "# we can delay when we print\n",
    "\n",
    "time.sleep(7)\n",
    "print(\"hello\") # 0/p will come after7 sec"
   ]
  },
  {
   "cell_type": "code",
   "execution_count": 12,
   "metadata": {},
   "outputs": [
    {
     "name": "stdout",
     "output_type": "stream",
     "text": [
      "   November 2019\n",
      "Mo Tu We Th Fr Sa Su\n",
      "             1  2  3\n",
      " 4  5  6  7  8  9 10\n",
      "11 12 13 14 15 16 17\n",
      "18 19 20 21 22 23 24\n",
      "25 26 27 28 29 30\n",
      "\n"
     ]
    }
   ],
   "source": [
    "\n",
    "import calendar\n",
    "print(calendar.month(2019,11))"
   ]
  },
  {
   "cell_type": "code",
   "execution_count": 20,
   "metadata": {},
   "outputs": [
    {
     "name": "stdout",
     "output_type": "stream",
     "text": [
      "                                      1967\n",
      "\n",
      "      January                       February                       March\n",
      "Mo Tu We Th Fr Sa Su          Mo Tu We Th Fr Sa Su          Mo Tu We Th Fr Sa Su\n",
      "                   1                 1  2  3  4  5                 1  2  3  4  5\n",
      " 2  3  4  5  6  7  8           6  7  8  9 10 11 12           6  7  8  9 10 11 12\n",
      " 9 10 11 12 13 14 15          13 14 15 16 17 18 19          13 14 15 16 17 18 19\n",
      "16 17 18 19 20 21 22          20 21 22 23 24 25 26          20 21 22 23 24 25 26\n",
      "23 24 25 26 27 28 29          27 28                         27 28 29 30 31\n",
      "30 31\n",
      "\n",
      "       April                          May                           June\n",
      "Mo Tu We Th Fr Sa Su          Mo Tu We Th Fr Sa Su          Mo Tu We Th Fr Sa Su\n",
      "                1  2           1  2  3  4  5  6  7                    1  2  3  4\n",
      " 3  4  5  6  7  8  9           8  9 10 11 12 13 14           5  6  7  8  9 10 11\n",
      "10 11 12 13 14 15 16          15 16 17 18 19 20 21          12 13 14 15 16 17 18\n",
      "17 18 19 20 21 22 23          22 23 24 25 26 27 28          19 20 21 22 23 24 25\n",
      "24 25 26 27 28 29 30          29 30 31                      26 27 28 29 30\n",
      "\n",
      "        July                         August                      September\n",
      "Mo Tu We Th Fr Sa Su          Mo Tu We Th Fr Sa Su          Mo Tu We Th Fr Sa Su\n",
      "                1  2              1  2  3  4  5  6                       1  2  3\n",
      " 3  4  5  6  7  8  9           7  8  9 10 11 12 13           4  5  6  7  8  9 10\n",
      "10 11 12 13 14 15 16          14 15 16 17 18 19 20          11 12 13 14 15 16 17\n",
      "17 18 19 20 21 22 23          21 22 23 24 25 26 27          18 19 20 21 22 23 24\n",
      "24 25 26 27 28 29 30          28 29 30 31                   25 26 27 28 29 30\n",
      "31\n",
      "\n",
      "      October                       November                      December\n",
      "Mo Tu We Th Fr Sa Su          Mo Tu We Th Fr Sa Su          Mo Tu We Th Fr Sa Su\n",
      "                   1                 1  2  3  4  5                       1  2  3\n",
      " 2  3  4  5  6  7  8           6  7  8  9 10 11 12           4  5  6  7  8  9 10\n",
      " 9 10 11 12 13 14 15          13 14 15 16 17 18 19          11 12 13 14 15 16 17\n",
      "16 17 18 19 20 21 22          20 21 22 23 24 25 26          18 19 20 21 22 23 24\n",
      "23 24 25 26 27 28 29          27 28 29 30                   25 26 27 28 29 30 31\n",
      "30 31\n",
      "\n"
     ]
    }
   ],
   "source": [
    "print(calendar.calendar(1967,2,1,10))"
   ]
  },
  {
   "cell_type": "code",
   "execution_count": 16,
   "metadata": {},
   "outputs": [
    {
     "data": {
      "text/plain": [
       "True"
      ]
     },
     "execution_count": 16,
     "metadata": {},
     "output_type": "execute_result"
    }
   ],
   "source": [
    "calendar.isleap(2008)"
   ]
  },
  {
   "cell_type": "code",
   "execution_count": 19,
   "metadata": {},
   "outputs": [
    {
     "name": "stdout",
     "output_type": "stream",
     "text": [
      "2009\n",
      "2009 is not leapyear\n"
     ]
    }
   ],
   "source": [
    "\n",
    "# leap year\n",
    "\n",
    "year = int(input())\n",
    "if year%4 == 0 or (year%100 != 0 and year%400 == 0):\n",
    "    print(year,\"is leapyear\")\n",
    "else:\n",
    "    print(year,\"is not leapyear\")"
   ]
  },
  {
   "cell_type": "code",
   "execution_count": null,
   "metadata": {},
   "outputs": [],
   "source": []
  }
 ],
 "metadata": {
  "kernelspec": {
   "display_name": "Python 3",
   "language": "python",
   "name": "python3"
  },
  "language_info": {
   "codemirror_mode": {
    "name": "ipython",
    "version": 3
   },
   "file_extension": ".py",
   "mimetype": "text/x-python",
   "name": "python",
   "nbconvert_exporter": "python",
   "pygments_lexer": "ipython3",
   "version": "3.7.3"
  }
 },
 "nbformat": 4,
 "nbformat_minor": 2
}
