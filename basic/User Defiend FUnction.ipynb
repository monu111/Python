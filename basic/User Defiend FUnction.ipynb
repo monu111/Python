{
 "cells": [
  {
   "cell_type": "code",
   "execution_count": 38,
   "metadata": {},
   "outputs": [
    {
     "name": "stdout",
     "output_type": "stream",
     "text": [
      "hello world\n"
     ]
    }
   ],
   "source": [
    " def sample(text):\n",
    "        print(text)\n",
    "sample(\"hello world\")        "
   ]
  },
  {
   "cell_type": "code",
   "execution_count": 44,
   "metadata": {
    "scrolled": true
   },
   "outputs": [
    {
     "name": "stdout",
     "output_type": "stream",
     "text": [
      "add 24\n",
      "sub -16\n",
      "mul 80\n",
      "div 0.2\n",
      "25\n",
      "1024\n"
     ]
    }
   ],
   "source": [
    "# pass by value\n",
    "def calender(a,b):\n",
    "    print(\"add\",a+b)\n",
    "    print(\"sub\",a-b)\n",
    "    print(\"mul\",a*b)\n",
    "    print(\"div\",a/b)\n",
    "    return\n",
    "calender(4,20)  # pass by value\n",
    "\n",
    "\n",
    "#############################\n",
    "\n",
    "def square(x):\n",
    "    t = x**2\n",
    "    print(t)\n",
    "square(5)    \n",
    "\n",
    "##################\n",
    "def power(x,y):\n",
    "    t = x**y\n",
    "    print(t)\n",
    "power(4,5)    "
   ]
  },
  {
   "cell_type": "code",
   "execution_count": 46,
   "metadata": {},
   "outputs": [
    {
     "name": "stdout",
     "output_type": "stream",
     "text": [
      "6\n"
     ]
    }
   ],
   "source": [
    "# returning from function\n",
    "\n",
    "def add(x,y):\n",
    "    t = x+y\n",
    "    return t  # returninig from function\n",
    "print(add(4,2))\n",
    "\n",
    "# NOTE: any code after return statement will never happen"
   ]
  },
  {
   "cell_type": "code",
   "execution_count": 51,
   "metadata": {},
   "outputs": [
    {
     "name": "stdout",
     "output_type": "stream",
     "text": [
      "28\n",
      "15\n"
     ]
    }
   ],
   "source": [
    "# function as a object\n",
    "\n",
    "def mul(x,y):\n",
    "    return x*y\n",
    "a = 4\n",
    "b = 7\n",
    "operation = mul  # function as a bject\n",
    "print(operation(a,b))\n",
    "\n",
    "\n",
    "\n",
    "#############\n",
    "def add(x,y):\n",
    "    return x+y\n",
    "a = 5\n",
    "b = 10\n",
    "op = add\n",
    "print(op(a,b))"
   ]
  },
  {
   "cell_type": "code",
   "execution_count": 53,
   "metadata": {},
   "outputs": [
    {
     "name": "stdout",
     "output_type": "stream",
     "text": [
      "local var 0\n",
      "global var 100\n"
     ]
    }
   ],
   "source": [
    "#  global and local varible\n",
    "var = 100\n",
    "def sample():\n",
    "    var = 0\n",
    "    print(\"local var\",var)\n",
    "    return\n",
    "sample()\n",
    "print(\"global var\",var)\n"
   ]
  },
  {
   "cell_type": "code",
   "execution_count": 55,
   "metadata": {},
   "outputs": [
    {
     "name": "stdout",
     "output_type": "stream",
     "text": [
      "110\n",
      "110\n"
     ]
    }
   ],
   "source": [
    "# update global var == if we can use global keywords\n",
    "\n",
    "var = 100\n",
    "def sample():\n",
    "    global var\n",
    "    var = var+10\n",
    "    print(var)\n",
    "sample()\n",
    "\n",
    "print(var)  # (updated)\n"
   ]
  },
  {
   "cell_type": "code",
   "execution_count": 60,
   "metadata": {},
   "outputs": [
    {
     "name": "stdout",
     "output_type": "stream",
     "text": [
      "1\n",
      "2\n",
      "3\n",
      "4\n",
      "5\n",
      "6\n",
      "7\n",
      "8\n",
      "hello world\n"
     ]
    }
   ],
   "source": [
    "# variable lenth argument\n",
    "\n",
    "\n",
    "def sample(*mytuple):\n",
    "    for var in mytuple:\n",
    "        print(var)\n",
    "        \n",
    "sample(1,2,3,4,5,6,7,8)\n",
    "sample(\"hello world\")"
   ]
  },
  {
   "cell_type": "code",
   "execution_count": null,
   "metadata": {},
   "outputs": [],
   "source": []
  }
 ],
 "metadata": {
  "kernelspec": {
   "display_name": "Python 3",
   "language": "python",
   "name": "python3"
  },
  "language_info": {
   "codemirror_mode": {
    "name": "ipython",
    "version": 3
   },
   "file_extension": ".py",
   "mimetype": "text/x-python",
   "name": "python",
   "nbconvert_exporter": "python",
   "pygments_lexer": "ipython3",
   "version": "3.7.7"
  }
 },
 "nbformat": 4,
 "nbformat_minor": 2
}
