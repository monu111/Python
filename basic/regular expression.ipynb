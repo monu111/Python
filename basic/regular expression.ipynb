{
 "cells": [
  {
   "cell_type": "markdown",
   "metadata": {},
   "source": [
    "# it is basically used in string manipulation,\n",
    "\n",
    "#  vareify that string &match that pattern, performing substitution in a string\n"
   ]
  },
  {
   "cell_type": "markdown",
   "metadata": {},
   "source": [
    "# 1. re. match(pattern,string)==== it matches at the beginnig of the string\n"
   ]
  },
  {
   "cell_type": "code",
   "execution_count": 1,
   "metadata": {},
   "outputs": [
    {
     "name": "stdout",
     "output_type": "stream",
     "text": [
      "match\n"
     ]
    }
   ],
   "source": [
    "import re\n",
    "pattern = r\"spam\"\n",
    "if re.match(pattern,\"spamegg\"):\n",
    "    print(\"match\")\n",
    "    \n",
    "else:\n",
    "    print(\"no match\")"
   ]
  },
  {
   "cell_type": "markdown",
   "metadata": {},
   "source": [
    "# 2. re.search  === find a match anywhere in the string\n",
    "\n",
    "# 3. re.findall ==== return a list of substring which matches pattern\n"
   ]
  },
  {
   "cell_type": "code",
   "execution_count": 2,
   "metadata": {},
   "outputs": [
    {
     "name": "stdout",
     "output_type": "stream",
     "text": [
      "no match\n",
      "match\n",
      "['spam', 'spam']\n"
     ]
    }
   ],
   "source": [
    "import re\n",
    "pattern = \"spam\"\n",
    "if re.match(pattern,\"eggspamsausagespam\"):\n",
    "    print(\"match\")\n",
    "else:\n",
    "    print(\"no match\")\n",
    "    \n",
    "if re.search(pattern,\"eggspamsausagespam\"):\n",
    "    print(\"match\")\n",
    "else:\n",
    "    print(\"no match\")\n",
    "    \n",
    "print(re.findall(pattern,\"eggspamsausagespam\"))\n"
   ]
  },
  {
   "cell_type": "markdown",
   "metadata": {},
   "source": [
    "# group ==which return the string matched\n",
    "\n",
    "# start = = which return start position of the first match\n",
    "\n",
    "# end = =  which return end position of the first match\n",
    "\n",
    "# span == which return start and end position of the first match"
   ]
  },
  {
   "cell_type": "code",
   "execution_count": 3,
   "metadata": {},
   "outputs": [
    {
     "name": "stdout",
     "output_type": "stream",
     "text": [
      "pam\n",
      "4\n",
      "7\n",
      "(4, 7)\n"
     ]
    }
   ],
   "source": [
    "import re\n",
    "pattern = r\"pam\"\n",
    "match = re.search(pattern,'eggspamsausage')\n",
    "if match:\n",
    "    print(match.group())     # pam\n",
    "    print(match.start())    # 4\n",
    "    print(match.end())      # 7\n",
    "    print(match.span())     # (4,7)"
   ]
  },
  {
   "cell_type": "markdown",
   "metadata": {},
   "source": [
    "# search and replace.\n",
    "\n",
    "# re.sub(pattern,repl,string,count  = 0),count 0 is bydefault & we can change count"
   ]
  },
  {
   "cell_type": "code",
   "execution_count": 4,
   "metadata": {},
   "outputs": [
    {
     "name": "stdout",
     "output_type": "stream",
     "text": [
      "my name is monu,hi monu,cool monu\n",
      "my name is monu,hi david,cool david\n"
     ]
    }
   ],
   "source": [
    "import re \n",
    "str= \"my name is david,hi david,cool david\"\n",
    "pattern = r\"david\"\n",
    "newstr = re.sub(pattern,\"monu\",str)\n",
    "print(newstr)\n",
    "\n",
    "# if we set count =1 means count only one time(means replace value applied only one time )\n",
    "newstr = re.sub(pattern,\"monu\",str,count =1)  # only 1 time replace\n",
    "print(newstr)"
   ]
  },
  {
   "cell_type": "markdown",
   "metadata": {},
   "source": [
    "# metacharacter = they provide some functionality\n",
    "\n",
    "# dot(.) ==== this matches any char,(ratherthan new line)but no match new line\n",
    "\n",
    "#   $,^   ===  these match start and end of the sring"
   ]
  },
  {
   "cell_type": "code",
   "execution_count": 5,
   "metadata": {},
   "outputs": [
    {
     "name": "stdout",
     "output_type": "stream",
     "text": [
      "match1\n",
      "match3\n"
     ]
    }
   ],
   "source": [
    "import re\n",
    "pattern = \"gr.y\"\n",
    "if re.match(pattern,\"grey\"):\n",
    "    print('match1')\n",
    "    \n",
    "if re.match(pattern,\"qwertyuiop\"):\n",
    "    print(\"match 2\")\n",
    "    \n",
    "if re.match(pattern,'gray'):\n",
    "    print(\"match3\")"
   ]
  },
  {
   "cell_type": "code",
   "execution_count": 6,
   "metadata": {},
   "outputs": [
    {
     "name": "stdout",
     "output_type": "stream",
     "text": [
      "match1\n",
      "match2\n"
     ]
    }
   ],
   "source": [
    "#  ^,$ ==== start and end of the match\n",
    "import re\n",
    "pattern = r\"^gr.y$\"\n",
    "if re.match(pattern,\"gray\"):\n",
    "    print('match1')\n",
    "if re.match(pattern,\"grey\"):\n",
    "    print(\"match2\")\n",
    "    \n",
    "    "
   ]
  },
  {
   "cell_type": "markdown",
   "metadata": {},
   "source": [
    "# .character classes == it provide a way to match only one specific set of char\n",
    "# .char class ====[asdsss],[a,b,c,d],etc"
   ]
  },
  {
   "cell_type": "code",
   "execution_count": 7,
   "metadata": {},
   "outputs": [
    {
     "name": "stdout",
     "output_type": "stream",
     "text": [
      "match1\n",
      "match2\n"
     ]
    }
   ],
   "source": [
    "import re\n",
    "pattern = r\"[aeiou]\"\n",
    "if re.search(pattern,\"grey\"):\n",
    "    print(\"match1\")\n",
    "if re.search(pattern,'qwertyuiop'):\n",
    "    print(\"match2\")\n",
    "if re.search(pattern,\"rythm myths\"):\n",
    "    print(\"match 3\")\n"
   ]
  },
  {
   "cell_type": "code",
   "execution_count": 8,
   "metadata": {},
   "outputs": [
    {
     "name": "stdout",
     "output_type": "stream",
     "text": [
      "match2\n"
     ]
    }
   ],
   "source": [
    "#  here any one form abc then any one from def\n",
    "import re\n",
    "pattern = r\"[abc][def]\"\n",
    "\n",
    "if re.match(pattern,'tea'):\n",
    "    print('match1')\n",
    "    \n",
    "if re.match(pattern,'aettt'):\n",
    "    print('match2')\n",
    "    \n",
    "if re.match(pattern,\"ate\"):\n",
    "    print(\"match3\")"
   ]
  },
  {
   "cell_type": "code",
   "execution_count": 9,
   "metadata": {},
   "outputs": [],
   "source": [
    "# [a-z] ==== any letter from a-z\n",
    "#[A-z]==== any letter from A-Z\n",
    "# [G-P]==== any letter from g-p\n",
    "#[0-9] ====  any letter from 0-9\n",
    "#[A-za-z] ==== matches a letter of any case\n",
    "#[abc][def] === any letter out of (abc) & then any letter from(def)"
   ]
  },
  {
   "cell_type": "code",
   "execution_count": 10,
   "metadata": {},
   "outputs": [
    {
     "name": "stdout",
     "output_type": "stream",
     "text": [
      "match1\n"
     ]
    }
   ],
   "source": [
    "import re\n",
    "pattern = r\"[A-Z][a-z][0-9]\"\n",
    "if re.search(pattern,\"Ls8\"):\n",
    "    print(\"match1\")\n",
    "    \n",
    "if re.search(pattern,\"E3\"):\n",
    "    print(\"match2\")\n",
    "    \n",
    "if re.search(pattern,\"1ab\"):\n",
    "    print(\"match3\")"
   ]
  },
  {
   "cell_type": "code",
   "execution_count": 11,
   "metadata": {},
   "outputs": [
    {
     "name": "stdout",
     "output_type": "stream",
     "text": [
      "match1\n"
     ]
    }
   ],
   "source": [
    "import re\n",
    "pattern = r\"[1-5][0-9]\"\n",
    "if re.search(pattern,\"23\"):\n",
    "    print(\"match1\")\n",
    "if re.search(pattern,\"9\"):\n",
    "    print(\"match2\")"
   ]
  },
  {
   "cell_type": "markdown",
   "metadata": {},
   "source": [
    "# If ^ in the begining of the char classes then ,   ^--- inverse the char class,    [^A-z] excluded uppercase string"
   ]
  },
  {
   "cell_type": "code",
   "execution_count": 12,
   "metadata": {},
   "outputs": [
    {
     "name": "stdout",
     "output_type": "stream",
     "text": [
      "match1\n",
      "match2\n"
     ]
    }
   ],
   "source": [
    "import re\n",
    "pattern = r\"[^A-Z]\"  # ^ take any value rather than uppercase\n",
    "\n",
    "if re.search(pattern,\"this is all quiet\"):\n",
    "    print(\"match1\")\n",
    "    \n",
    "if re.search(pattern,\"AbcQE123\"):\n",
    "    print(\"match2\")\n",
    "    \n",
    "if re.search(pattern,\"THISISALLQUIET\"):\n",
    "    print(\"match3\")"
   ]
  },
  {
   "cell_type": "code",
   "execution_count": 13,
   "metadata": {},
   "outputs": [
    {
     "name": "stdout",
     "output_type": "stream",
     "text": [
      "match1\n",
      "match3\n"
     ]
    }
   ],
   "source": [
    "import re\n",
    "\n",
    "pattern = r\"[^0-9]\"\n",
    "if re.search(pattern,\"hi there\"):\n",
    "    print(\"match1\")\n",
    "    \n",
    "if re.search(pattern,\"123\"):\n",
    "    print(\"match2\")\n",
    "    \n",
    "if re.search(pattern,\"Abc123\"):\n",
    "    print('match3')"
   ]
  },
  {
   "cell_type": "markdown",
   "metadata": {},
   "source": [
    "#      more metachar(*,+,?) === these specify no. of repeation.\n",
    "\n",
    "#     *   ====   means zero or more repetition, of previous thing.(previous thing can be single or group of char)\n",
    "\n",
    "#    +   =====  means 1 or more repetition \n",
    "#     ? ======  means 0 or 1 repetition"
   ]
  },
  {
   "cell_type": "code",
   "execution_count": 14,
   "metadata": {},
   "outputs": [
    {
     "name": "stdout",
     "output_type": "stream",
     "text": [
      "match1\n",
      "match2\n"
     ]
    }
   ],
   "source": [
    "import re\n",
    "pattern = r\"egg(spam)*\"\n",
    "\n",
    "if re.match(pattern,\"egg\"):\n",
    "    print(\"match1\")\n",
    "if re.match(pattern,\"eggspamspamegg\"):\n",
    "    print(\"match2\")\n",
    "if re.match(pattern,\"spam\"):\n",
    "    print(\"match3\")"
   ]
  },
  {
   "cell_type": "code",
   "execution_count": 15,
   "metadata": {},
   "outputs": [
    {
     "name": "stdout",
     "output_type": "stream",
     "text": [
      "match1\n",
      "match2\n"
     ]
    }
   ],
   "source": [
    "import re\n",
    "pattern = r\"[a^]*\"\n",
    "if re.match(pattern,\" \"):\n",
    "    print(\"match1\")\n",
    "if re.match(pattern,\"a^\"):\n",
    "    print(\"match2\")"
   ]
  },
  {
   "cell_type": "code",
   "execution_count": 16,
   "metadata": {},
   "outputs": [
    {
     "name": "stdout",
     "output_type": "stream",
     "text": [
      "match1\n",
      "match2\n"
     ]
    }
   ],
   "source": [
    "import re\n",
    "pattern = \"g+\"   # + ---- means 1 0r more repetition\n",
    "if re.match(pattern,\"gggggg\"):\n",
    "    print(\"match1\")\n",
    "if re.match(pattern,\"g\"):\n",
    "    print(\"match2\")\n",
    "if re.match(pattern,\"abc\"):\n",
    "    print(\"match3\")"
   ]
  },
  {
   "cell_type": "code",
   "execution_count": 17,
   "metadata": {},
   "outputs": [
    {
     "name": "stdout",
     "output_type": "stream",
     "text": [
      "match1\n",
      "math2\n"
     ]
    }
   ],
   "source": [
    "import re \n",
    "pattern = \"ice(-)?cream\"\n",
    "\n",
    "if re.match(pattern,\"ice-cream\"):\n",
    "    print(\"match1\")\n",
    "    \n",
    "if re.match(pattern,\"icecream\"):\n",
    "    print(\"math2\")\n",
    "    \n",
    "if re.match(pattern,'sausage'):\n",
    "    print(\"match3\")\n",
    "\n",
    "if re.match(pattern,\"ice--ice\"):\n",
    "    print(\"match4\")\n",
    "    "
   ]
  },
  {
   "cell_type": "code",
   "execution_count": 18,
   "metadata": {},
   "outputs": [
    {
     "name": "stdout",
     "output_type": "stream",
     "text": [
      "match1\n"
     ]
    }
   ],
   "source": [
    "# {} ===  number of repetition b/w two no\n",
    "\n",
    "import re\n",
    "pattern = r\"9{1,3}\" \n",
    "if re.match(pattern,\"9\"):\n",
    "    print(\"match1\")\n",
    "#if re.match(pattern,)    "
   ]
  },
  {
   "cell_type": "markdown",
   "metadata": {},
   "source": [
    "# groups -- can be created by re (),this meansgroup can be argument by such as           * &?\n"
   ]
  },
  {
   "cell_type": "code",
   "execution_count": 19,
   "metadata": {},
   "outputs": [
    {
     "name": "stdout",
     "output_type": "stream",
     "text": [
      "abcdefghi\n",
      "bc\n",
      "de\n",
      "fgh\n",
      "g\n"
     ]
    }
   ],
   "source": [
    "import re\n",
    "pattern = r\"a(bc)(de)(f(g)h)i\"\n",
    "\n",
    "match = re.match(pattern,\"abcdefghijkl\")\n",
    "\n",
    "if match:\n",
    "    print(match.group(0))\n",
    "    print(match.group(1))\n",
    "    print(match.group(2))\n",
    "    print(match.group(3))\n",
    "    print(match.group(4))\n",
    "    "
   ]
  },
  {
   "cell_type": "raw",
   "metadata": {},
   "source": [
    "# types of group == named group and non capturing group\n",
    "# named group === have format (?P<name>...), ....===context, name ==  name of group\n",
    "# non capturing group = have a format (?:...)  , they cannot be accessible by group methed, "
   ]
  },
  {
   "cell_type": "code",
   "execution_count": 20,
   "metadata": {},
   "outputs": [
    {
     "name": "stdout",
     "output_type": "stream",
     "text": [
      "abc\n",
      "('abc', 'ghi')\n"
     ]
    }
   ],
   "source": [
    "import re \n",
    "pattern  =  r\"(?P<first>abc)(?:def)(ghi)\"\n",
    "match = re.match(pattern,\"abcdefghijkl\")\n",
    "if match:\n",
    "    print(match.group(\"first\"))\n",
    "    print(match.groups())"
   ]
  },
  {
   "cell_type": "code",
   "execution_count": 21,
   "metadata": {},
   "outputs": [],
   "source": [
    "#anoter important meta char |  a|b means a or b"
   ]
  },
  {
   "cell_type": "code",
   "execution_count": 22,
   "metadata": {},
   "outputs": [
    {
     "name": "stdout",
     "output_type": "stream",
     "text": [
      "match1\n",
      "match2\n"
     ]
    }
   ],
   "source": [
    "import re\n",
    "pattern  = r\"gr(a|e)y\"\n",
    "\n",
    "match = re.match(pattern,\"grey\")\n",
    "if match:\n",
    "    print(\"match1\")\n",
    "\n",
    "match = re.match(pattern,\"gray\")\n",
    "if match:\n",
    "    print(\"match2\")\n",
    "\n",
    "match = re.match(pattern,\"griy\")\n",
    "if match:\n",
    "    print(\"match3\")"
   ]
  },
  {
   "cell_type": "code",
   "execution_count": 23,
   "metadata": {},
   "outputs": [
    {
     "name": "stdout",
     "output_type": "stream",
     "text": [
      "match\n"
     ]
    }
   ],
   "source": [
    "import re\n",
    "pattern = r\"[12345]\"\n",
    "match = re.match(pattern,\"1\")\n",
    "if match:\n",
    "    print(\"match\")"
   ]
  },
  {
   "cell_type": "code",
   "execution_count": 24,
   "metadata": {},
   "outputs": [
    {
     "name": "stdout",
     "output_type": "stream",
     "text": [
      "match\n"
     ]
    }
   ],
   "source": [
    "import re\n",
    "pattern = r\"[1-6]\"\n",
    "match = re.match(pattern,\"3\")\n",
    "if match:\n",
    "    print(\"match\")"
   ]
  },
  {
   "cell_type": "markdown",
   "metadata": {},
   "source": [
    "# SPECIAL SEQUENCE === there are many special sequence you can use in re,one usefull special sequence in backslash & a no. b/w   1 & 99 , example \\1 or \\17.this matches the expression of the group of that NO."
   ]
  },
  {
   "cell_type": "code",
   "execution_count": 25,
   "metadata": {},
   "outputs": [
    {
     "name": "stdout",
     "output_type": "stream",
     "text": [
      "match1\n",
      "match2\n"
     ]
    }
   ],
   "source": [
    "import re\n",
    "pattern = r\"(.+) \\1\"\n",
    "\n",
    "match = re.match(pattern,\"word word\")\n",
    "if match:\n",
    "    print(\"match1\")\n",
    "    \n",
    "match = re.match(pattern,\"?! ?!\")\n",
    "if match:\n",
    "    print(\"match2\")\n",
    "    \n",
    "match = re.match(pattern,\"abcdef\")\n",
    "if match:\n",
    "    print(\"match3\")\n",
    "    \n",
    "    \n",
    "    \n",
    "    "
   ]
  },
  {
   "cell_type": "code",
   "execution_count": 26,
   "metadata": {},
   "outputs": [
    {
     "name": "stdout",
     "output_type": "stream",
     "text": [
      "match1\n"
     ]
    }
   ],
   "source": [
    "import re\n",
    "pattern = r\"(.+) (.+) (.+)\\1\"\n",
    "\n",
    "if re.match(pattern,\"abc bca cab abc\"):\n",
    "    print(\"match1\")\n",
    "\n",
    "if re.match(pattern,\"abc bca cab bca\"):\n",
    "    print('match2')\n",
    "\n",
    "if re.match(pattern,\"abc bca cab cab\"):\n",
    "    print(\"match3\")\n",
    "\n",
    "    \n",
    "    "
   ]
  },
  {
   "cell_type": "code",
   "execution_count": 27,
   "metadata": {},
   "outputs": [
    {
     "name": "stdout",
     "output_type": "stream",
     "text": [
      "match2\n"
     ]
    }
   ],
   "source": [
    "import re\n",
    "pattern = r\"(.+),(.+),(.+)\\2\"\n",
    "\n",
    "if re.match(pattern,\"abc,bca,cab,abc\"):\n",
    "    print(\"match1\")\n",
    "    \n",
    "if re.match(pattern,\"abc,bca,cab,bca\"):\n",
    "    print(\"match2\")\n",
    "    \n",
    "if re.match(pattern,\"abc,bca,cab,cab\"):\n",
    "    print(\"match3\")"
   ]
  },
  {
   "cell_type": "code",
   "execution_count": 28,
   "metadata": {},
   "outputs": [
    {
     "name": "stdout",
     "output_type": "stream",
     "text": [
      "match3\n"
     ]
    }
   ],
   "source": [
    "import re\n",
    "pattern = r\"(.+) (.+) (.+) \\3\"\n",
    "\n",
    "if re.match(pattern,\"abc bca cab abc\"):\n",
    "    print(\"match1\")\n",
    "\n",
    "if re.match(pattern,\"abc bca cab bca\"):\n",
    "    print(\"match2\")\n",
    "    \n",
    "if re.match(pattern,\"abc bca cab cab\"):\n",
    "    print(\"match3\")"
   ]
  },
  {
   "cell_type": "raw",
   "metadata": {},
   "source": [
    "# \\d     ===     match digit ,[0-9]\n",
    "   \\s    ===     match white space ,[\\t\\n\\r\\f\\v]\n",
    "   \\w    ===     match char\n",
    "   \\D    ===     match anything not digit\n",
    "   \\S    ===     match anything not white space\n",
    "   \\W    ===     match anything not char"
   ]
  },
  {
   "cell_type": "code",
   "execution_count": 29,
   "metadata": {},
   "outputs": [
    {
     "name": "stdout",
     "output_type": "stream",
     "text": [
      "match1\n"
     ]
    }
   ],
   "source": [
    "import re\n",
    "pattern = r\"(\\D+\\d)\"\n",
    "\n",
    "if re.match(pattern,\"hi 999\"):\n",
    "    print(\"match1\")\n",
    "    \n",
    "if re.match(pattern,\"1,23,456\"):\n",
    "    print('match2')\n",
    "    \n",
    "if re.match(pattern,\"!$?\"):\n",
    "    print(\"match3\")\n",
    "    \n",
    "    \n",
    "    \n",
    "    \n",
    "    \n",
    "    "
   ]
  },
  {
   "cell_type": "markdown",
   "metadata": {},
   "source": [
    "# more special sequence = = \n",
    "# \\A === match begining and then end\n",
    "# \\Z=====\n",
    "\n",
    "# \\b ==== match empty string between \\w & \\W (and any  white space b/w then),or any  value in the begining and in the end (ex.  \"\\b(cat)\\b\",in the start and in  the end ,\\b consist any value)   ,,,,,,,,,,   but not take alphanumeric value in the beg & end (scatD , here s and D not  match)\n",
    "\n",
    "# \\B === match empty string anywhere else"
   ]
  },
  {
   "cell_type": "code",
   "execution_count": 30,
   "metadata": {},
   "outputs": [
    {
     "name": "stdout",
     "output_type": "stream",
     "text": [
      "match1\n",
      "match2\n"
     ]
    }
   ],
   "source": [
    "import re\n",
    "pattern = r\"\\b(cat)\\b\"\n",
    "\n",
    "if re.search(pattern,\"the cat sat\"):\n",
    "    print('match1')\n",
    "\n",
    "if re.search(pattern,\"we s>cat<tered?\"):\n",
    "    print(\"match2\")\n",
    "    \n",
    "if re.search(pattern,\"we scattered\"):\n",
    "    print(\"match3\")"
   ]
  },
  {
   "cell_type": "code",
   "execution_count": 31,
   "metadata": {},
   "outputs": [
    {
     "name": "stdout",
     "output_type": "stream",
     "text": [
      "match1\n",
      "match2\n",
      "match3\n",
      "match4\n"
     ]
    }
   ],
   "source": [
    "# more better example\n",
    "\n",
    "import re\n",
    "pattern = r\"\\b(huri)\\b\"\n",
    "if re.search(pattern,\"the huri cur\"):\n",
    "    print(\"match1\")\n",
    "if re.search(pattern,\"the/huri.cur\"):\n",
    "    print(\"match2\")\n",
    "if re.search(pattern,\"the*huri+cur\"):\n",
    "    print(\"match3\")\n",
    "if re.search(pattern,\"the*huri:cur\"):\n",
    "    print(\"match4\")\n",
    "\n",
    "    \n",
    "if re.search(pattern,\"th3huri4cur\"):  # it will not cause alphabet berfor match,its take non aalphanumric value\n",
    "    print(\"match5\")\n",
    "    \n",
    "    \n",
    "#   note =   here \\b can be any value in the begninig and the end "
   ]
  },
  {
   "cell_type": "markdown",
   "metadata": {},
   "source": [
    "# email extraction ===== we can extract email addrsss from string\n",
    "\n",
    "..."
   ]
  },
  {
   "cell_type": "code",
   "execution_count": 32,
   "metadata": {},
   "outputs": [],
   "source": [
    "import re\n",
    "pattern = r\"([\\w\\.-]+)@([\\W\\.-]+)(\\.[\\w\\.]+)\"\n",
    "\n",
    "str = \"please contact info@sololearn.com for assistance\"\n",
    "\n",
    "match = re.search(pattern,str)\n",
    "if match:\n",
    "    print(match.group())"
   ]
  }
 ],
 "metadata": {
  "kernelspec": {
   "display_name": "Python 3",
   "language": "python",
   "name": "python3"
  },
  "language_info": {
   "codemirror_mode": {
    "name": "ipython",
    "version": 3
   },
   "file_extension": ".py",
   "mimetype": "text/x-python",
   "name": "python",
   "nbconvert_exporter": "python",
   "pygments_lexer": "ipython3",
   "version": "3.8.5"
  }
 },
 "nbformat": 4,
 "nbformat_minor": 2
}
