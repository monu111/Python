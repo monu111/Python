{
 "cells": [
  {
   "cell_type": "code",
   "execution_count": 1,
   "metadata": {},
   "outputs": [
    {
     "name": "stdout",
     "output_type": "stream",
     "text": [
      "100\n",
      "65.83\n",
      "string\n"
     ]
    }
   ],
   "source": [
    "#var ,x =3\n",
    "# means x holds value of 3 in memory here x is var\n",
    "\n",
    "var = 37.76\n",
    "var1,var2,var3 = 100,65.83,\"string\"\n",
    "print(var1)\n",
    "print(var2)\n",
    "print(var3)"
   ]
  },
  {
   "cell_type": "markdown",
   "metadata": {},
   "source": [
    "# list = is a collection of hitrogenous data type,it is denoted by []"
   ]
  },
  {
   "cell_type": "code",
   "execution_count": 2,
   "metadata": {},
   "outputs": [
    {
     "name": "stdout",
     "output_type": "stream",
     "text": [
      "one\n",
      "[2, 3.4, 5, 6, (6+2j)]\n",
      "['one', 2, 3.4, 5, 6, (6+2j), 'one', 2, 3.4, 5, 6, (6+2j), 'one', 2, 3.4, 5, 6, (6+2j)]\n"
     ]
    }
   ],
   "source": [
    "list = [\"one\",2,3.4,5,6,6+2j]\n",
    "print(list[0])\n",
    "print(list[1:])\n",
    "\n",
    "print(list*3)\n",
    "                "
   ]
  },
  {
   "cell_type": "code",
   "execution_count": 3,
   "metadata": {},
   "outputs": [
    {
     "name": "stdout",
     "output_type": "stream",
     "text": [
      "[1, 2, 3, 4, 5, 6, 7, 8, 9]\n"
     ]
    }
   ],
   "source": [
    "# adding two list\n",
    "l1 = [1,2,3,4]\n",
    "l2 = [5,6,7,8,9]\n",
    "print(l1+l2)\n"
   ]
  },
  {
   "cell_type": "code",
   "execution_count": 4,
   "metadata": {},
   "outputs": [
    {
     "name": "stdout",
     "output_type": "stream",
     "text": [
      "[0, 2, 3, 4]\n"
     ]
    }
   ],
   "source": [
    "# update value in list\n",
    "l =[1,2,3,4]\n",
    "l[0] = 0\n",
    "print(l)"
   ]
  },
  {
   "cell_type": "code",
   "execution_count": 5,
   "metadata": {},
   "outputs": [
    {
     "name": "stdout",
     "output_type": "stream",
     "text": [
      "6\n"
     ]
    }
   ],
   "source": [
    "# len()\n",
    "l = [1,2,3,4,5,6]\n",
    "print(len(l))"
   ]
  },
  {
   "cell_type": "code",
   "execution_count": 6,
   "metadata": {},
   "outputs": [
    {
     "name": "stdout",
     "output_type": "stream",
     "text": [
      "4\n",
      "1\n",
      "10\n"
     ]
    }
   ],
   "source": [
    "# max()\n",
    "# min()\n",
    "#sum()\n",
    "\n",
    "l = [1,2,3,4]\n",
    "print(max(l))\n",
    "print(min(l))\n",
    "print(sum(l))"
   ]
  },
  {
   "cell_type": "code",
   "execution_count": 7,
   "metadata": {},
   "outputs": [
    {
     "name": "stdout",
     "output_type": "stream",
     "text": [
      "2 times\n"
     ]
    }
   ],
   "source": [
    "#count()  = count the value\n",
    "list = [1,2,3,4,5,6,3,7,8]\n",
    "print(list.count(3),\"times\")"
   ]
  },
  {
   "cell_type": "code",
   "execution_count": 8,
   "metadata": {},
   "outputs": [
    {
     "name": "stdout",
     "output_type": "stream",
     "text": [
      "[1, 2, 3, 4, 5]\n"
     ]
    }
   ],
   "source": [
    "# aapend() == append the value in given list\n",
    "#   insert value at the end\n",
    "\n",
    "l = [1,2,3,4]\n",
    "l.append(5)\n",
    "print(l)"
   ]
  },
  {
   "cell_type": "code",
   "execution_count": 9,
   "metadata": {},
   "outputs": [
    {
     "name": "stdout",
     "output_type": "stream",
     "text": [
      "[4, 5, 888, 6, 7]\n"
     ]
    }
   ],
   "source": [
    "# insert(index,value) ====> insert a value at particular index position\n",
    "\n",
    "list = [4,5,6,7]\n",
    "list.insert(2,888)\n",
    "print(list)\n"
   ]
  },
  {
   "cell_type": "code",
   "execution_count": 10,
   "metadata": {},
   "outputs": [
    {
     "name": "stdout",
     "output_type": "stream",
     "text": [
      "[1, 2, 4]\n"
     ]
    }
   ],
   "source": [
    "# remove(value) ====> remove the value from the list\n",
    "l = [1,2,3,4]\n",
    "l.remove(3)\n",
    "print(l)"
   ]
  },
  {
   "cell_type": "code",
   "execution_count": 11,
   "metadata": {},
   "outputs": [
    {
     "name": "stdout",
     "output_type": "stream",
     "text": [
      "[4, 3, 2, 1]\n"
     ]
    }
   ],
   "source": [
    "# reverse()  ======> it reverse the list element\n",
    "\n",
    "list = [1,2,3,4]\n",
    "list.reverse()\n",
    "print(list)"
   ]
  },
  {
   "cell_type": "code",
   "execution_count": 12,
   "metadata": {},
   "outputs": [
    {
     "name": "stdout",
     "output_type": "stream",
     "text": [
      "[1, 2, 4, 10]\n"
     ]
    }
   ],
   "source": [
    "# sort()====> applied sorting the value in assending order\n",
    "\n",
    "s = [10,2,4,1]\n",
    "s.sort()\n",
    "print(s)"
   ]
  },
  {
   "cell_type": "code",
   "execution_count": 13,
   "metadata": {},
   "outputs": [
    {
     "name": "stdout",
     "output_type": "stream",
     "text": [
      "['biology', 'chemistry', 'math', 'physics']\n"
     ]
    }
   ],
   "source": [
    "l = [\"biology\",\"math\",\"physics\",\"chemistry\"]\n",
    "l.sort()   # sorting on char\n",
    "print(l)"
   ]
  },
  {
   "cell_type": "code",
   "execution_count": 14,
   "metadata": {},
   "outputs": [
    {
     "name": "stdout",
     "output_type": "stream",
     "text": [
      "[1, 2, 3, 4, 5, 6, 7, 8]\n"
     ]
    }
   ],
   "source": [
    "# extend() ===> append the content of sequence in list\n",
    "l = [1,2,3,4]\n",
    "l2 = [5,6,7,8]\n",
    "l.extend(l2)\n",
    "print(l)"
   ]
  },
  {
   "cell_type": "code",
   "execution_count": 15,
   "metadata": {},
   "outputs": [],
   "source": [
    "l = [1,2]"
   ]
  },
  {
   "cell_type": "code",
   "execution_count": 16,
   "metadata": {},
   "outputs": [
    {
     "name": "stdout",
     "output_type": "stream",
     "text": [
      "4\n",
      "4\n"
     ]
    }
   ],
   "source": [
    "# index(value) === > find the index value in list\n",
    "\n",
    "l = [1,2,3,4,5,6,7,8,9]\n",
    "print(l.index(5))\n",
    "\n",
    "print(l.index(5,0,len(l)))"
   ]
  },
  {
   "cell_type": "code",
   "execution_count": 17,
   "metadata": {},
   "outputs": [
    {
     "name": "stdout",
     "output_type": "stream",
     "text": [
      "['p', 'c', 'm']\n",
      "[1, 2, 3, 4, 5, 7]\n"
     ]
    }
   ],
   "source": [
    "# pop() === remove last element from the list\n",
    "\n",
    "l = [\"p\",\"c\",\"m\",\"b\"]\n",
    "l.pop()\n",
    "print(l)\n",
    "\n",
    "\n",
    "### remove particular  pop(index)\n",
    "l = [1,2,3,4,5,6,7,]\n",
    "l.pop(5)\n",
    "print(l)"
   ]
  },
  {
   "cell_type": "code",
   "execution_count": 18,
   "metadata": {},
   "outputs": [
    {
     "name": "stdout",
     "output_type": "stream",
     "text": [
      "[0, 4, 16, 36, 64]\n",
      "[4, 25]\n",
      "[1, 4, 9, 16, 23, 36, 49, 64]\n",
      "[49, 36]\n",
      "[]\n"
     ]
    }
   ],
   "source": [
    "# list slices\n",
    "# extended slice ====>[start,stop,step]\n",
    "\n",
    "square = [0,1,4,9,16,25,36,49,64,81]\n",
    "print(square[::2])\n",
    "print(square[2:8:3])\n",
    "\n",
    "\n",
    "s = [0,1,4,9,16,23,36,49,64,81]\n",
    "print(s[1:-1])  # it ignore last element using -1\n",
    "\n",
    "\n",
    "square = [0,1,4,9,16,25,36,49,64,81]\n",
    "print(square[7:5:-1])\n",
    "print(square[7:5])"
   ]
  },
  {
   "cell_type": "code",
   "execution_count": 19,
   "metadata": {},
   "outputs": [
    {
     "name": "stdout",
     "output_type": "stream",
     "text": [
      "[49, 36]\n",
      "[49, 36]\n"
     ]
    }
   ],
   "source": [
    "square = [0,1,4,9,16,25,36,49,64,81]\n",
    "print(square[7:5:-1])\n",
    "print(square[7:5:-1])"
   ]
  },
  {
   "cell_type": "code",
   "execution_count": 20,
   "metadata": {},
   "outputs": [
    {
     "name": "stdout",
     "output_type": "stream",
     "text": [
      "[0, 1, 8, 27, 64]\n",
      "[0, 1, 4, 9, 16]\n",
      "[7, 14, 21, 28, 35, 42, 49, 56, 63, 70, 77, 84, 91, 98]\n"
     ]
    }
   ],
   "source": [
    "# list comprehension\n",
    "\n",
    "cube = [i**3 for i in range(5)]\n",
    "print(cube)\n",
    "\n",
    "square = [i**2 for i in range(5)] \n",
    "print(square)\n",
    "\n",
    "mul_of_7 = [i for i in range(1,101) if i%7 == 0]\n",
    "print(mul_of_7)"
   ]
  },
  {
   "cell_type": "code",
   "execution_count": 21,
   "metadata": {},
   "outputs": [
    {
     "name": "stdout",
     "output_type": "stream",
     "text": [
      "[3, 6, 9, 12, 15, 18, 21, 24, 27, 30, 33, 36, 39, 42, 45, 48, 51, 54, 57, 60, 63, 66, 69, 72, 75, 78, 81, 84, 87, 90, 93, 96, 99]\n"
     ]
    }
   ],
   "source": [
    "# list comprehesion\n",
    "\n",
    "even = [i for i in range(1,100) if i%2 == 0]\n",
    "#print(even)\n",
    "\n",
    "# create a list multiple of 3\n",
    "\n",
    "mul = [i for i in range(1,100) if i%3 == 0]\n",
    "print(mul)"
   ]
  },
  {
   "cell_type": "code",
   "execution_count": 22,
   "metadata": {},
   "outputs": [
    {
     "name": "stdout",
     "output_type": "stream",
     "text": [
      "yes\n",
      "[55, 44, 33, 22, 11]\n",
      "(0, 55)\n",
      "(1, 44)\n",
      "(2, 33)\n",
      "(3, 22)\n",
      "(4, 11)\n",
      "(-1, 55)\n",
      "(0, 44)\n",
      "(1, 33)\n",
      "(2, 22)\n",
      "(3, 11)\n"
     ]
    }
   ],
   "source": [
    "# all  === if all is true\n",
    "# any  === ifv any one is true\n",
    "# enumerate(values,num) ====> enumerate(nums,-1)  \n",
    "\n",
    "\n",
    "num = [55,44,33,22,11]\n",
    "if all([x%11==0 for x in num]):\n",
    "    print(\"yes\")\n",
    "    \n",
    "#############################################\n",
    "if any([x%2 == 0 for x in num]):\n",
    "    print(num)\n",
    "\n",
    "#############################################   \n",
    "for i in enumerate(num):\n",
    "    print(i)\n",
    "\n",
    "######################\n",
    "for i in enumerate(num,-1):  # 5\n",
    "    print(i)"
   ]
  },
  {
   "cell_type": "code",
   "execution_count": 23,
   "metadata": {},
   "outputs": [],
   "source": [
    "# "
   ]
  }
 ],
 "metadata": {
  "kernelspec": {
   "display_name": "Python 3",
   "language": "python",
   "name": "python3"
  },
  "language_info": {
   "codemirror_mode": {
    "name": "ipython",
    "version": 3
   },
   "file_extension": ".py",
   "mimetype": "text/x-python",
   "name": "python",
   "nbconvert_exporter": "python",
   "pygments_lexer": "ipython3",
   "version": "3.8.5"
  }
 },
 "nbformat": 4,
 "nbformat_minor": 2
}
