{
 "cells": [
  {
   "cell_type": "markdown",
   "metadata": {},
   "source": [
    "# dictionary are the unordered key-value pair values\n",
    "# associative array called hases"
   ]
  },
  {
   "cell_type": "code",
   "execution_count": 2,
   "metadata": {},
   "outputs": [
    {
     "name": "stdout",
     "output_type": "stream",
     "text": [
      "{'monu': 'monu@gmail.com', 'sonu': 'sonu@gm,ail.com', 'k': 3456}\n"
     ]
    }
   ],
   "source": [
    "address = {}\n",
    "address[\"monu\"] = \"monu@gmail.com\"\n",
    "address[\"sonu\"] = \"sonu@gm,ail.com\"\n",
    "address[\"k\"] = 3456\n",
    "print(address)\n",
    "\n",
    "print(address.keys)\n",
    "print(address.values)"
   ]
  },
  {
   "cell_type": "code",
   "execution_count": 2,
   "metadata": {},
   "outputs": [
    {
     "name": "stdout",
     "output_type": "stream",
     "text": [
      "2\n"
     ]
    }
   ],
   "source": [
    "d = {1:\"mango\",2:\"apple\"}\n",
    "print(len(d))  # find the lenth of dictionary"
   ]
  },
  {
   "cell_type": "code",
   "execution_count": 2,
   "metadata": {},
   "outputs": [
    {
     "name": "stdout",
     "output_type": "stream",
     "text": [
      "{1: 'sorry', 2: 'twnd'}\n"
     ]
    }
   ],
   "source": [
    "d = {1:\"sorry\"}\n",
    "d1 = {2:\"twnd\"}\n",
    "d.update(d1)\n",
    "print(d)"
   ]
  },
  {
   "cell_type": "code",
   "execution_count": 3,
   "metadata": {},
   "outputs": [
    {
     "name": "stdout",
     "output_type": "stream",
     "text": [
      "{}\n"
     ]
    }
   ],
   "source": [
    "# clear() ====> it clear the content from the dictionary\n",
    "\n",
    "dict = {1:2,3:4,5:6}\n",
    "dict.clear()\n",
    "print(dict)"
   ]
  },
  {
   "cell_type": "code",
   "execution_count": 4,
   "metadata": {},
   "outputs": [
    {
     "name": "stdout",
     "output_type": "stream",
     "text": [
      "True\n",
      "True\n",
      "True\n"
     ]
    }
   ],
   "source": [
    "num = {1:\"1\",2:\"2\",3:\"3\",6:\"6\"}\n",
    "print(1 in num)\n",
    "print(2 in num)\n",
    "print(3 in num)\n",
    "\n"
   ]
  },
  {
   "cell_type": "code",
   "execution_count": 9,
   "metadata": {},
   "outputs": [
    {
     "name": "stdout",
     "output_type": "stream",
     "text": [
      "[2, 3, 4]\n",
      "orange\n",
      "not in s\n"
     ]
    }
   ],
   "source": [
    "# get(_)  ===> print particular value using get\n",
    "# get(keys)\n",
    "\n",
    "s = {1:\"apple\",2:\"orange\",3:\"banana\",\"true\":[2,3,4]}\n",
    "print(s.get(\"true\"))\n",
    "\n",
    "print(s.get(2))\n",
    "\n",
    "print(s.get(12345,\"not in s\"))\n"
   ]
  },
  {
   "cell_type": "code",
   "execution_count": 11,
   "metadata": {},
   "outputs": [
    {
     "name": "stdout",
     "output_type": "stream",
     "text": [
      "dict_items([('apple', 2), ('orange', 3), ('banana', 4)])\n"
     ]
    }
   ],
   "source": [
    "# dict.items() ====> return key and values of dictionary\n",
    "\n",
    "sale = {\"apple\":2,\"orange\":3,\"banana\":4}\n",
    "print(sale.items())"
   ]
  },
  {
   "cell_type": "code",
   "execution_count": null,
   "metadata": {},
   "outputs": [],
   "source": []
  }
 ],
 "metadata": {
  "kernelspec": {
   "display_name": "Python 3",
   "language": "python",
   "name": "python3"
  },
  "language_info": {
   "codemirror_mode": {
    "name": "ipython",
    "version": 3
   },
   "file_extension": ".py",
   "mimetype": "text/x-python",
   "name": "python",
   "nbconvert_exporter": "python",
   "pygments_lexer": "ipython3",
   "version": "3.7.7"
  }
 },
 "nbformat": 4,
 "nbformat_minor": 2
}
