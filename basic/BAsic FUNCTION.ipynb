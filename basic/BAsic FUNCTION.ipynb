{
 "cells": [
  {
   "cell_type": "markdown",
   "metadata": {},
   "source": [
    "# Function in python\n",
    "### it is bolck of code which perfrom specific task.\n",
    "\n"
   ]
  },
  {
   "cell_type": "code",
   "execution_count": 1,
   "metadata": {},
   "outputs": [
    {
     "name": "stdout",
     "output_type": "stream",
     "text": [
      "20\n"
     ]
    }
   ],
   "source": [
    "#function are used to utilize code in more than one place\n",
    "\n",
    "#function as a argument\n",
    "def fun(arg1,arg2):\n",
    "    print(arg1*arg2)\n",
    "fun(5,4)    "
   ]
  },
  {
   "cell_type": "code",
   "execution_count": 2,
   "metadata": {},
   "outputs": [
    {
     "name": "stdout",
     "output_type": "stream",
     "text": [
      "enter a no10\n",
      "10 is even\n"
     ]
    }
   ],
   "source": [
    " # find the no is even or not using fun argument\n",
    "def even(num):\n",
    "    if num%2 == 0:\n",
    "        print(num,\"is even\")\n",
    "    else:\n",
    "        print(num,\"is odd\")\n",
    "        \n",
    "var =int(input(\"enter a no\"))\n",
    "even(var)\n",
    "        "
   ]
  },
  {
   "cell_type": "code",
   "execution_count": 3,
   "metadata": {},
   "outputs": [
    {
     "name": "stdout",
     "output_type": "stream",
     "text": [
      "7\n",
      "8\n"
     ]
    }
   ],
   "source": [
    "# max no print using returning from fun\n",
    "def max(x,y):\n",
    "    if x>y:\n",
    "        return x\n",
    "    else:\n",
    "        return y\n",
    "print(max(4,7))\n",
    "z = max(4,8)\n",
    "print(z)\n",
    "        \n",
    "        "
   ]
  },
  {
   "cell_type": "code",
   "execution_count": 4,
   "metadata": {},
   "outputs": [
    {
     "name": "stdout",
     "output_type": "stream",
     "text": [
      "9\n"
     ]
    },
    {
     "data": {
      "text/plain": [
       "14"
      ]
     },
     "execution_count": 4,
     "metadata": {},
     "output_type": "execute_result"
    }
   ],
   "source": [
    "# RETURNING FROM THE FUNCTION\n",
    "def add_no(x,y):\n",
    "    total = x+y\n",
    "    return total\n",
    "    print(\"cool\") #when we return anything down there cool wont print\n",
    "print(add_no(4,5))\n",
    "add_no(6,8)"
   ]
  },
  {
   "cell_type": "code",
   "execution_count": 5,
   "metadata": {},
   "outputs": [
    {
     "name": "stdout",
     "output_type": "stream",
     "text": [
      "enter a num45\n",
      "num is not prime:   45\n"
     ]
    }
   ],
   "source": [
    "# prime num using function\n",
    "def prime(num):\n",
    "    for var in range(2,num-1):\n",
    "        flag = True\n",
    "        if num%var == 0:\n",
    "            print(\"num is not prime:  \",num)\n",
    "            flag = False\n",
    "            break\n",
    "    if flag:\n",
    "        print(\"num is prime\",num)\n",
    "var1 = int(input(\"enter a num\"))            \n",
    "prime(var1)           \n",
    "            \n",
    "            \n",
    "    "
   ]
  },
  {
   "cell_type": "code",
   "execution_count": 6,
   "metadata": {},
   "outputs": [
    {
     "name": "stdout",
     "output_type": "stream",
     "text": [
      "5 is not even\n"
     ]
    }
   ],
   "source": [
    "def even(num):\n",
    "    if num%2 == 0:\n",
    "        print(num,\"is even\")\n",
    "    else:\n",
    "        print(num,\"is not even\")\n",
    "even(5)        \n",
    "        \n",
    "        "
   ]
  },
  {
   "cell_type": "code",
   "execution_count": 7,
   "metadata": {
    "scrolled": true
   },
   "outputs": [
    {
     "name": "stdout",
     "output_type": "stream",
     "text": [
      "num is prime 37\n"
     ]
    }
   ],
   "source": [
    "prime(37)"
   ]
  },
  {
   "cell_type": "code",
   "execution_count": 8,
   "metadata": {},
   "outputs": [
    {
     "name": "stdout",
     "output_type": "stream",
     "text": [
      "My name is monu and age is 29\n"
     ]
    }
   ],
   "source": [
    "# here name is positional argument, and (age = 29) keyward argument\n",
    "def sample(name, age = 29):\n",
    "    print('My name is {} and age is {}'.format(name, age))\n",
    "sample('monu')   "
   ]
  },
  {
   "cell_type": "code",
   "execution_count": 9,
   "metadata": {},
   "outputs": [
    {
     "name": "stdout",
     "output_type": "stream",
     "text": [
      "My name is 5 and age is 29\n"
     ]
    }
   ],
   "source": [
    "sample(5)"
   ]
  },
  {
   "cell_type": "code",
   "execution_count": 10,
   "metadata": {},
   "outputs": [],
   "source": [
    "# another way to understand argument and keyward argument\n",
    "def sample(*args, **kwrgs):\n",
    "    print(args)\n",
    "    print(kwrgs)"
   ]
  },
  {
   "cell_type": "code",
   "execution_count": 11,
   "metadata": {},
   "outputs": [
    {
     "name": "stdout",
     "output_type": "stream",
     "text": [
      "('monu', 'khan')\n",
      "{'age': 29, 'dob': 1995}\n"
     ]
    }
   ],
   "source": [
    "sample('monu', 'khan', age = 29, dob = 1995)"
   ]
  },
  {
   "cell_type": "code",
   "execution_count": 12,
   "metadata": {},
   "outputs": [],
   "source": [
    "lst = ['Monu', 'khan']\n",
    "dict_args = {'age':16, 'dob': 1990}\n"
   ]
  },
  {
   "cell_type": "code",
   "execution_count": 13,
   "metadata": {},
   "outputs": [
    {
     "name": "stdout",
     "output_type": "stream",
     "text": [
      "('Monu', 'khan')\n",
      "{'age': 16, 'dob': 1990}\n"
     ]
    }
   ],
   "source": [
    "sample(*lst, **dict_args)"
   ]
  },
  {
   "cell_type": "code",
   "execution_count": null,
   "metadata": {},
   "outputs": [],
   "source": []
  },
  {
   "cell_type": "code",
   "execution_count": null,
   "metadata": {},
   "outputs": [],
   "source": []
  }
 ],
 "metadata": {
  "kernelspec": {
   "display_name": "Python 3",
   "language": "python",
   "name": "python3"
  },
  "language_info": {
   "codemirror_mode": {
    "name": "ipython",
    "version": 3
   },
   "file_extension": ".py",
   "mimetype": "text/x-python",
   "name": "python",
   "nbconvert_exporter": "python",
   "pygments_lexer": "ipython3",
   "version": "3.8.5"
  }
 },
 "nbformat": 4,
 "nbformat_minor": 2
}
