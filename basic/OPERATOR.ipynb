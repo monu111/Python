{
 "cells": [
  {
   "cell_type": "code",
   "execution_count": 1,
   "metadata": {},
   "outputs": [
    {
     "name": "stdout",
     "output_type": "stream",
     "text": [
      "11\n",
      "4\n",
      "8\n",
      "5.0\n",
      "8\n",
      "1\n",
      "5\n"
     ]
    }
   ],
   "source": [
    "# arithmatic operator\n",
    "\n",
    "print(5+6) # add\n",
    "print(6-2) # sub\n",
    "print(4*2) # mul\n",
    "print(10/2) # div\n",
    "print(2**3)# power\n",
    "print(13%2) # mod(remainder)\n",
    "print(10//2)  # floor div(it return int type value)"
   ]
  },
  {
   "cell_type": "code",
   "execution_count": 2,
   "metadata": {},
   "outputs": [
    {
     "ename": "SyntaxError",
     "evalue": "invalid syntax (<ipython-input-2-833bec723150>, line 8)",
     "output_type": "error",
     "traceback": [
      "\u001b[1;36m  File \u001b[1;32m\"<ipython-input-2-833bec723150>\"\u001b[1;36m, line \u001b[1;32m8\u001b[0m\n\u001b[1;33m    print([if a ==10 and b== 15])\u001b[0m\n\u001b[1;37m            ^\u001b[0m\n\u001b[1;31mSyntaxError\u001b[0m\u001b[1;31m:\u001b[0m invalid syntax\n"
     ]
    }
   ],
   "source": [
    "#  logical operator ,return True & false\n",
    "# a and b if both are true\n",
    "# a or b if anyone is true\n",
    "# not \n"
   ]
  },
  {
   "cell_type": "code",
   "execution_count": 3,
   "metadata": {},
   "outputs": [
    {
     "name": "stdout",
     "output_type": "stream",
     "text": [
      "0b1010\n",
      "0b1111\n",
      "0b101\n"
     ]
    }
   ],
   "source": [
    "# bitwise operator =====> &,|(bitwise or),^(exor), (~ == compliment), <<,>>\n",
    "\n",
    "a = 10 \n",
    "b= 15\n",
    "print(bin(a&b))\n",
    "print(bin(a|b))\n",
    "print(bin(a^b))"
   ]
  },
  {
   "cell_type": "code",
   "execution_count": 7,
   "metadata": {},
   "outputs": [
    {
     "name": "stdout",
     "output_type": "stream",
     "text": [
      "True\n",
      "True\n",
      "False\n"
     ]
    }
   ],
   "source": [
    "# membership opertator =======> in,, not in\n",
    "\n",
    "str1 = \"i have laze dog\"\n",
    "print(\"dog\" in str1)\n",
    "print(\"lion\" not in str1)\n",
    "print(\"lion\" in str1)"
   ]
  },
  {
   "cell_type": "code",
   "execution_count": 8,
   "metadata": {},
   "outputs": [
    {
     "name": "stdout",
     "output_type": "stream",
     "text": [
      "False\n",
      "True\n"
     ]
    }
   ],
   "source": [
    "# identity operator  is , is ont\n",
    "\n",
    "a =10\n",
    "b = 15\n",
    "print(a is b)\n",
    "print(a is not b)"
   ]
  },
  {
   "cell_type": "code",
   "execution_count": null,
   "metadata": {},
   "outputs": [],
   "source": []
  }
 ],
 "metadata": {
  "kernelspec": {
   "display_name": "Python 3",
   "language": "python",
   "name": "python3"
  },
  "language_info": {
   "codemirror_mode": {
    "name": "ipython",
    "version": 3
   },
   "file_extension": ".py",
   "mimetype": "text/x-python",
   "name": "python",
   "nbconvert_exporter": "python",
   "pygments_lexer": "ipython3",
   "version": "3.7.3"
  }
 },
 "nbformat": 4,
 "nbformat_minor": 2
}
