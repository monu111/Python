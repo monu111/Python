{
 "cells": [
  {
   "cell_type": "code",
   "execution_count": 1,
   "metadata": {},
   "outputs": [
    {
     "name": "stdout",
     "output_type": "stream",
     "text": [
      "5.9999\n",
      "5\n",
      "-5\n"
     ]
    }
   ],
   "source": [
    "# abs === >  abs ,it return distance from zero\n",
    "print(abs(5.9999))\n",
    "\n",
    "print(abs(5))\n",
    "\n",
    "print(-5)"
   ]
  },
  {
   "cell_type": "code",
   "execution_count": 2,
   "metadata": {},
   "outputs": [
    {
     "name": "stdout",
     "output_type": "stream",
     "text": [
      "36\n",
      "-35\n"
     ]
    }
   ],
   "source": [
    "# ceil ====> it return next higher integer value\n",
    "\n",
    "import math\n",
    "print(math.ceil(35.56))\n",
    "print(math.ceil(-35.64))"
   ]
  },
  {
   "cell_type": "code",
   "execution_count": 3,
   "metadata": {},
   "outputs": [
    {
     "name": "stdout",
     "output_type": "stream",
     "text": [
      "35\n",
      "-36\n"
     ]
    }
   ],
   "source": [
    "# floor =====>  it return next lower integer values\n",
    "\n",
    "print(math.floor(35.75))\n",
    "print(math.floor(-35.75))"
   ]
  },
  {
   "cell_type": "code",
   "execution_count": 4,
   "metadata": {},
   "outputs": [
    {
     "name": "stdout",
     "output_type": "stream",
     "text": [
      "2.718281828459045\n",
      "1586013452313430.8\n"
     ]
    }
   ],
   "source": [
    "# exponent #  exp()\n",
    "\n",
    "print(math.e)\n",
    "\n",
    "print(math.exp(35))"
   ]
  },
  {
   "cell_type": "code",
   "execution_count": 5,
   "metadata": {},
   "outputs": [
    {
     "data": {
      "text/plain": [
       "3.3219280948873626"
      ]
     },
     "execution_count": 5,
     "metadata": {},
     "output_type": "execute_result"
    }
   ],
   "source": [
    "# log ,  math.log(value,base), math.log10( ),MATH.LOG2()\n",
    "\n",
    "import math\n",
    "math.log(10,2)"
   ]
  },
  {
   "cell_type": "code",
   "execution_count": 6,
   "metadata": {},
   "outputs": [
    {
     "name": "stdout",
     "output_type": "stream",
     "text": [
      "(0.9710000000000001, 11.0)\n"
     ]
    }
   ],
   "source": [
    "# modf ====> when we pass fraction value ,it return tuple with int and float part values\n",
    "\n",
    "import math\n",
    "print(math.modf(11.971))\n",
    "\n"
   ]
  },
  {
   "cell_type": "code",
   "execution_count": 7,
   "metadata": {},
   "outputs": [
    {
     "name": "stdout",
     "output_type": "stream",
     "text": [
      "3\n",
      "4\n",
      "3.57\n"
     ]
    }
   ],
   "source": [
    "# round +=====> it return roundoff no\n",
    "\n",
    "print(round(3.345677888))\n",
    "print(round(3.99999999999))\n",
    "\n",
    "print(round(3.56789,2)) # it return 2 value after desimal point"
   ]
  },
  {
   "cell_type": "code",
   "execution_count": 8,
   "metadata": {},
   "outputs": [
    {
     "name": "stdout",
     "output_type": "stream",
     "text": [
      "15625\n"
     ]
    }
   ],
   "source": [
    "print(pow(5,6))   # pow(value,power)"
   ]
  },
  {
   "cell_type": "code",
   "execution_count": 9,
   "metadata": {},
   "outputs": [
    {
     "name": "stdout",
     "output_type": "stream",
     "text": [
      "5.0\n"
     ]
    }
   ],
   "source": [
    "import math\n",
    "print(math.sqrt(25))"
   ]
  },
  {
   "cell_type": "code",
   "execution_count": 11,
   "metadata": {},
   "outputs": [
    {
     "name": "stdout",
     "output_type": "stream",
     "text": [
      "8+6\n",
      "14\n"
     ]
    }
   ],
   "source": [
    "#eval ====> we can evaluate the value\n",
    "\n",
    "n = input()\n",
    "print(eval(n))"
   ]
  },
  {
   "cell_type": "code",
   "execution_count": null,
   "metadata": {},
   "outputs": [],
   "source": []
  }
 ],
 "metadata": {
  "kernelspec": {
   "display_name": "Python 3",
   "language": "python",
   "name": "python3"
  },
  "language_info": {
   "codemirror_mode": {
    "name": "ipython",
    "version": 3
   },
   "file_extension": ".py",
   "mimetype": "text/x-python",
   "name": "python",
   "nbconvert_exporter": "python",
   "pygments_lexer": "ipython3",
   "version": "3.8.5"
  }
 },
 "nbformat": 4,
 "nbformat_minor": 2
}
