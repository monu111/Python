{
 "cells": [
  {
   "cell_type": "markdown",
   "metadata": {},
   "source": [
    "# sets ====> it uncordered collection of distinct values\n"
   ]
  },
  {
   "cell_type": "code",
   "execution_count": 2,
   "metadata": {},
   "outputs": [
    {
     "name": "stdout",
     "output_type": "stream",
     "text": [
      "True\n",
      "False\n",
      "False\n",
      "2\n"
     ]
    }
   ],
   "source": [
    "animal = {\"cat\",\"dog\"}\n",
    "print(\"cat\" in animal)\n",
    "print(\"cat\" not in animal)\n",
    "print(\"fish\" in animal)\n",
    "\n",
    "print(len(animal))"
   ]
  },
  {
   "cell_type": "code",
   "execution_count": 4,
   "metadata": {},
   "outputs": [
    {
     "name": "stdout",
     "output_type": "stream",
     "text": [
      "{'dog', 'fish', 'cat'}\n"
     ]
    }
   ],
   "source": [
    "# add a value\n",
    "#set.add(value)\n",
    "\n",
    "animal ={\"cat\",\"dog\"}\n",
    "animal.add(\"fish\")\n",
    "print(animal)"
   ]
  },
  {
   "cell_type": "code",
   "execution_count": 5,
   "metadata": {},
   "outputs": [
    {
     "name": "stdout",
     "output_type": "stream",
     "text": [
      "{0, 1, 2, 3, 4, 5}\n"
     ]
    }
   ],
   "source": [
    "# set comprihensive ===> like dict and list\n",
    "\n",
    "from math import sqrt\n",
    "num = {int(sqrt(x)) for x in range(30)}\n",
    "print(num)"
   ]
  },
  {
   "cell_type": "code",
   "execution_count": 6,
   "metadata": {},
   "outputs": [
    {
     "name": "stdout",
     "output_type": "stream",
     "text": [
      "{2, 4, 6, 8, 10, 12, 14, 16, 18, 20, 22, 24, 26, 28}\n"
     ]
    }
   ],
   "source": [
    "even = {x for x in range(1,30) if x%2 == 0}\n",
    "print(num)"
   ]
  },
  {
   "cell_type": "code",
   "execution_count": 12,
   "metadata": {},
   "outputs": [
    {
     "name": "stdout",
     "output_type": "stream",
     "text": [
      "120\n",
      "{1, 3, 5, 7, 9, 11, 13, 15, 17, 19, 21, 23, 25, 27, 29, 31, 33, 35, 37, 39, 41, 43, 45, 47, 49, 51, 53, 55, 57, 59, 61, 63, 65, 67, 69, 71, 73, 75, 77, 79, 81, 83, 85, 87, 89, 91, 93, 95, 97, 99, 101, 103, 105, 107, 109, 111, 113, 115, 117, 119}\n"
     ]
    }
   ],
   "source": [
    "# even no b/w 1 to 120\n",
    "\n",
    "num = int(input())\n",
    "even = {x for x in range(1,num) if x%2 != 0}\n",
    "print(even)"
   ]
  },
  {
   "cell_type": "code",
   "execution_count": 14,
   "metadata": {},
   "outputs": [
    {
     "name": "stdout",
     "output_type": "stream",
     "text": [
      "1\n"
     ]
    }
   ],
   "source": [
    "letter = {'a','b','c','d'}\n",
    "if \"e\" not in letter:\n",
    "    print(\"1\")\n",
    "else:\n",
    "    print(\"2\")"
   ]
  },
  {
   "cell_type": "code",
   "execution_count": 18,
   "metadata": {},
   "outputs": [
    {
     "name": "stdout",
     "output_type": "stream",
     "text": [
      "{1, 2, 3, 4, 5, 6}\n",
      "{'world', 'hello'}\n"
     ]
    }
   ],
   "source": [
    "# set cannot print repeat value\n",
    "# sets ignore repeat values\n",
    "\n",
    "s = {1,2,3,4,5,4,6,4}\n",
    "print(s)\n",
    "\n",
    "s = {\"hello\",\"world\",\"hello\"}\n",
    "print(s)"
   ]
  },
  {
   "cell_type": "code",
   "execution_count": 22,
   "metadata": {
    "scrolled": true
   },
   "outputs": [
    {
     "name": "stdout",
     "output_type": "stream",
     "text": [
      "{1, 2, 3, 4, 5, 6, 7, 8, 9}\n",
      "{4, 5, 6}\n",
      "{1, 2, 3}\n",
      "{8, 9, 7}\n",
      "{1, 2, 3, 7, 8, 9}\n"
     ]
    }
   ],
   "source": [
    "# set combine with math operatio\n",
    "#  !   ====>   unoin operator          (combine two set)\n",
    "#  &   ====>   intersection operator    (get item  which only in both)\n",
    "#  -   ====>   difference operator      (get item first but not second)\n",
    "#  ^   ====>   symmatric difference  ,,,,(get item in either set but not in both)\n",
    "\n",
    "f = {1,2,3,4,5,6}\n",
    "s = {4,5,6,7,8,9}\n",
    "\n",
    "print(f|s)  # {1, 2, 3, 4, 5, 6, 7, 8, 9}\n",
    "\n",
    "print(f&s)  # {4, 5, 6}\n",
    "\n",
    "print(f-s)  # {1, 2, 3}\n",
    "\n",
    "print(s-f)  # {8, 9, 7}\n",
    "\n",
    "print(f^s)  # {1, 2, 3, 7, 8, 9}\n"
   ]
  },
  {
   "cell_type": "code",
   "execution_count": null,
   "metadata": {},
   "outputs": [],
   "source": []
  }
 ],
 "metadata": {
  "kernelspec": {
   "display_name": "Python 3",
   "language": "python",
   "name": "python3"
  },
  "language_info": {
   "codemirror_mode": {
    "name": "ipython",
    "version": 3
   },
   "file_extension": ".py",
   "mimetype": "text/x-python",
   "name": "python",
   "nbconvert_exporter": "python",
   "pygments_lexer": "ipython3",
   "version": "3.8.5"
  }
 },
 "nbformat": 4,
 "nbformat_minor": 2
}
