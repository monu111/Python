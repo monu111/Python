{
 "cells": [
  {
   "cell_type": "code",
   "execution_count": 2,
   "metadata": {},
   "outputs": [],
   "source": [
    "# oops = class  consist its objects\n",
    "\n",
    "# __init__ is important method of class it is called when instance(object) of the class is created\n",
    "# self = for calling object& all method must have their first parameter 'self' becuase python explicitly add this\n"
   ]
  },
  {
   "cell_type": "code",
   "execution_count": null,
   "metadata": {},
   "outputs": [],
   "source": []
  },
  {
   "cell_type": "code",
   "execution_count": null,
   "metadata": {},
   "outputs": [],
   "source": []
  },
  {
   "cell_type": "code",
   "execution_count": 3,
   "metadata": {},
   "outputs": [
    {
     "name": "stdout",
     "output_type": "stream",
     "text": [
      "blue tom\n",
      "felix brown\n",
      "stumpy black\n"
     ]
    }
   ],
   "source": [
    "class Cat:\n",
    "\n",
    "    def __init__(self,name,color): # instance of class\n",
    "        self.name = name      # instance attribute\n",
    "        self.color = color\n",
    "\n",
    "tom = Cat('tom','blue')\n",
    "felix = Cat('felix','brown')\n",
    "stumpy = Cat('stumpy','black')\n",
    "    \n",
    "print(tom.color,tom.name)    # call our instance method\n",
    "print(felix.name,felix.color)   # call by object of class\n",
    "print(stumpy.name,stumpy.color)"
   ]
  },
  {
   "cell_type": "code",
   "execution_count": 4,
   "metadata": {},
   "outputs": [
    {
     "name": "stdout",
     "output_type": "stream",
     "text": [
      "sherro white 4\n",
      "white\n",
      "woof\n"
     ]
    }
   ],
   "source": [
    "class Dog:\n",
    "    def __init__(self,name,color,legs):\n",
    "        self.name = name\n",
    "        self.color  =color\n",
    "        self.legs = legs\n",
    "        \n",
    "    def bark(self): # instace method\n",
    "        print('woof')\n",
    "        \n",
    "sherro = Dog('sherro','white',4)        \n",
    "print(sherro.name,sherro.color,sherro.legs)\n",
    "\n",
    "print(sherro.color)\n",
    "\n",
    "sherro.bark()"
   ]
  },
  {
   "cell_type": "markdown",
   "metadata": {},
   "source": [
    "# WITH CLASS ATTRIBUTE"
   ]
  },
  {
   "cell_type": "code",
   "execution_count": 5,
   "metadata": {},
   "outputs": [
    {
     "name": "stdout",
     "output_type": "stream",
     "text": [
      "4\n",
      "shero black\n",
      "woof\n"
     ]
    }
   ],
   "source": [
    "class Dog:\n",
    "    legs = 4  # class attribute\n",
    "    def __init__(self,name,color):\n",
    "        self.name = name    # instance attribute\n",
    "        self.color = color\n",
    "    \n",
    "    def bark(self):\n",
    "        print('woof')\n",
    "shero = Dog('shero','black')\n",
    "print(shero.legs)\n",
    "\n",
    "print(shero.name,shero.color)\n",
    "\n",
    "shero.bark()"
   ]
  },
  {
   "cell_type": "code",
   "execution_count": 6,
   "metadata": {},
   "outputs": [
    {
     "name": "stdout",
     "output_type": "stream",
     "text": [
      "4\n"
     ]
    }
   ],
   "source": [
    "# attribute error\n",
    "\n",
    "class DOg:\n",
    "    def __init__(self,name,color):\n",
    "        self.name = name\n",
    "        self.color = color\n",
    "tom = Dog('tom','white')\n",
    "print(tom.legs)"
   ]
  },
  {
   "cell_type": "markdown",
   "metadata": {},
   "source": [
    "# 2, inhertane - share functionality B/W each other,"
   ]
  },
  {
   "cell_type": "code",
   "execution_count": 7,
   "metadata": {},
   "outputs": [
    {
     "name": "stdout",
     "output_type": "stream",
     "text": [
      "fido white\n",
      "woof\n"
     ]
    }
   ],
   "source": [
    "class Animal:\n",
    "    def __init__(self,name,color):\n",
    "        self.name = name\n",
    "        self.color = color\n",
    "\n",
    "class Cat(Animal):\n",
    "    def purr(self):\n",
    "        print('moooomi')\n",
    "    \n",
    "class Dog(Animal):\n",
    "    def bark(self):\n",
    "        print('woof')\n",
    "        \n",
    "fido = Dog('fido','white')\n",
    "print(fido.name,fido.color)\n",
    "\n",
    "#fido.purr()  # error when run this cause fido get only fuctionality of Animal\n",
    "fido.bark()\n",
    "        "
   ]
  },
  {
   "cell_type": "markdown",
   "metadata": {},
   "source": [
    "# override = when inherit from 1 class to another with same attribute or method then it override them"
   ]
  },
  {
   "cell_type": "code",
   "execution_count": 8,
   "metadata": {},
   "outputs": [
    {
     "name": "stdout",
     "output_type": "stream",
     "text": [
      "woof\n"
     ]
    }
   ],
   "source": [
    "class Wolf:\n",
    "    \n",
    "    def __init__(self,name,color):\n",
    "        self.name = name\n",
    "        self.color = color\n",
    "    \n",
    "    def bark(self):\n",
    "        print('hahooooo')\n",
    "        \n",
    "        \n",
    "class  Dog(Wolf):\n",
    "    \n",
    "    def bark(self):\n",
    "        print('woof')\n",
    "\n",
    "fido = Dog('fido','white')        \n",
    "fido.bark()        # dog bark override another"
   ]
  },
  {
   "cell_type": "markdown",
   "metadata": {},
   "source": [
    "#    Inheritance can be indirect "
   ]
  },
  {
   "cell_type": "code",
   "execution_count": 9,
   "metadata": {},
   "outputs": [
    {
     "name": "stdout",
     "output_type": "stream",
     "text": [
      "A method\n",
      "b method\n",
      "A method\n"
     ]
    }
   ],
   "source": [
    "class A:\n",
    "    def method(self):\n",
    "        print(\"A method\")\n",
    "        \n",
    "class B(A):\n",
    "    \n",
    "    def b_method(self):\n",
    "        print(\"b method\")\n",
    "        \n",
    "class C(B):  \n",
    "    def c_method(self):\n",
    "        print(\"c method\")\n",
    "\n",
    "c = C()\n",
    "c.method()\n",
    "c.b_method()\n",
    "c.method()   # indirect call the class A method\n",
    "\n",
    "        "
   ]
  },
  {
   "cell_type": "code",
   "execution_count": 10,
   "metadata": {},
   "outputs": [
    {
     "name": "stdout",
     "output_type": "stream",
     "text": [
      "2\n"
     ]
    }
   ],
   "source": [
    "# overide\n",
    "\n",
    "class A:\n",
    "    def a(self):\n",
    "        print(1)\n",
    "        \n",
    "class B(A):\n",
    "    def a(self):\n",
    "        print(2)\n",
    "        \n",
    "#        super().a()\n",
    "\n",
    "class C(B):\n",
    "    def c(self):\n",
    "        print(3)\n",
    "        \n",
    "c = C()\n",
    "c.a()    # override class A, 1"
   ]
  },
  {
   "cell_type": "markdown",
   "metadata": {},
   "source": [
    "# super() to stop override"
   ]
  },
  {
   "cell_type": "code",
   "execution_count": 11,
   "metadata": {},
   "outputs": [
    {
     "name": "stdout",
     "output_type": "stream",
     "text": [
      "2\n",
      "1\n"
     ]
    }
   ],
   "source": [
    "class A:\n",
    "    def spam(self):\n",
    "        print(1)\n",
    "        \n",
    "class B(A):\n",
    "    def spam(self):\n",
    "        print(2)\n",
    "        super().spam()\n",
    "        \n",
    "B().spam()        "
   ]
  },
  {
   "cell_type": "markdown",
   "metadata": {},
   "source": [
    "# 3, Magic method"
   ]
  },
  {
   "cell_type": "code",
   "execution_count": null,
   "metadata": {},
   "outputs": [],
   "source": []
  },
  {
   "cell_type": "code",
   "execution_count": 12,
   "metadata": {},
   "outputs": [
    {
     "name": "stdout",
     "output_type": "stream",
     "text": [
      "12\n",
      "16\n"
     ]
    }
   ],
   "source": [
    "# use __add__ magic method,__mul__,pow,and,xor,or,and,truediv,floordiv\n",
    "\n",
    "class Vector2d:\n",
    "    \n",
    "    def __init__(self,x,y):\n",
    "        self.x = x\n",
    "        self.y = y\n",
    "        \n",
    "    def __add__(self,other):\n",
    "        return Vector2d(self.x+other.x,self.y+other.y)\n",
    "\n",
    "first = Vector2d(5,7)\n",
    "second = Vector2d(7,9)\n",
    "result = first+second\n",
    "print(result.x)\n",
    "print(result.y)\n",
    "    \n",
    "        "
   ]
  },
  {
   "cell_type": "code",
   "execution_count": 13,
   "metadata": {},
   "outputs": [
    {
     "name": "stdout",
     "output_type": "stream",
     "text": [
      "spam\n",
      "===========\n",
      "hello world\n"
     ]
    }
   ],
   "source": [
    "class SpecialString:\n",
    "    \n",
    "    def __init__(self,cont):\n",
    "        self.cont = cont\n",
    "        \n",
    "    def __truediv__(self,other):\n",
    "        line = \"=\"*len(other.cont)\n",
    "        return '\\n'.join([self.cont,line,other.cont])\n",
    "\n",
    "spam = SpecialString(\"spam\")\n",
    "hello = SpecialString(\"hello world\")\n",
    "print(spam/hello)"
   ]
  },
  {
   "cell_type": "code",
   "execution_count": 14,
   "metadata": {},
   "outputs": [
    {
     "name": "stdout",
     "output_type": "stream",
     "text": [
      ">spam>eggs\n",
      "e>spam>ggs\n",
      "eg>spam>gs\n",
      "egg>spam>s\n",
      "eggs>spam>\n"
     ]
    }
   ],
   "source": [
    "#magic method for comparision, __lt__,__gt__,__eq__,gq__,__le__,__nq__\n",
    "\n",
    "class SpecialString:\n",
    "    def __init__(self,cont):\n",
    "        self.cont = cont\n",
    "        \n",
    "    def __gt__(self,other):\n",
    "        for index in range(len(other.cont)+1):\n",
    "            result = other.cont[:index]+\">\"+self.cont\n",
    "            result = result+'>'+other.cont[index:]\n",
    "            print(result)\n",
    "\n",
    "spam = SpecialString(\"spam\")\n",
    "eggs = SpecialString('eggs')\n",
    "spam>eggs"
   ]
  },
  {
   "cell_type": "code",
   "execution_count": 15,
   "metadata": {},
   "outputs": [
    {
     "name": "stdout",
     "output_type": "stream",
     "text": [
      "1\n",
      "1\n",
      "1\n",
      "D\n"
     ]
    }
   ],
   "source": [
    "# __len__,getitem__,__setitem__,delitem,\n",
    "\n",
    "import random\n",
    "class Vaguelist:\n",
    "    def __init__(self,cont):\n",
    "        self.cont = cont\n",
    "        \n",
    "    def __getitem__(self,index):\n",
    "        return self.cont[index+random.randint(-1,1)]\n",
    "    \n",
    "    def __len__(self):\n",
    "        return random.randint(0,len(self.cont)*2)\n",
    "    \n",
    "vague_list = Vaguelist([\"A\",'B','C',\"D\",\"E\",\"F\"])\n",
    "\n",
    "print(len(vague_list))  #here generated \n",
    "print(len(vague_list))  # random \n",
    "print(len(vague_list[2]))# No.\n",
    "print(vague_list[2])"
   ]
  },
  {
   "cell_type": "code",
   "execution_count": null,
   "metadata": {
    "collapsed": true
   },
   "outputs": [],
   "source": [
    "# \n"
   ]
  }
 ],
 "metadata": {
  "kernelspec": {
   "display_name": "Python 3",
   "language": "python",
   "name": "python3"
  },
  "language_info": {
   "codemirror_mode": {
    "name": "ipython",
    "version": 3
   },
   "file_extension": ".py",
   "mimetype": "text/x-python",
   "name": "python",
   "nbconvert_exporter": "python",
   "pygments_lexer": "ipython3",
   "version": "3.8.5"
  }
 },
 "nbformat": 4,
 "nbformat_minor": 2
}
