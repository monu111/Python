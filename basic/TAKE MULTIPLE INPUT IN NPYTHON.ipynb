{
 "cells": [
  {
   "cell_type": "code",
   "execution_count": 1,
   "metadata": {},
   "outputs": [
    {
     "name": "stdout",
     "output_type": "stream",
     "text": [
      "6\n",
      "7\n",
      "('6', '7')\n"
     ]
    }
   ],
   "source": [
    "##### AS ATUPLE \n",
    "t = input(),input()\n",
    "print(t)"
   ]
  },
  {
   "cell_type": "code",
   "execution_count": 2,
   "metadata": {},
   "outputs": [
    {
     "name": "stdout",
     "output_type": "stream",
     "text": [
      "6\n",
      "7\n",
      "['6', '7']\n"
     ]
    }
   ],
   "source": [
    "# as a list\n",
    "l = [input(),input()]\n",
    "print(l)"
   ]
  },
  {
   "cell_type": "code",
   "execution_count": 16,
   "metadata": {},
   "outputs": [
    {
     "name": "stdout",
     "output_type": "stream",
     "text": [
      "5 6 7\n",
      "567\n",
      "5,6,7\n",
      "567\n"
     ]
    }
   ],
   "source": [
    "a,b,c = input().split()\n",
    "print(int(a+b+c))  # it take only as a string of all inputs\n",
    "\n",
    "a,b,c = input().split(',') # using , as input when we types it\n",
    "print(a+b+c)\n"
   ]
  },
  {
   "cell_type": "code",
   "execution_count": 11,
   "metadata": {},
   "outputs": [
    {
     "name": "stdout",
     "output_type": "stream",
     "text": [
      "5 6 7\n",
      "('5', '6', '7')\n",
      "657\n",
      "['657']\n"
     ]
    }
   ],
   "source": [
    "a = tuple(input().split()) #, replace list in the o/p as a tuple\n",
    "print(a)\n",
    "a = input().split() # oup\n",
    "print(a)"
   ]
  },
  {
   "cell_type": "code",
   "execution_count": 7,
   "metadata": {},
   "outputs": [
    {
     "name": "stdout",
     "output_type": "stream",
     "text": [
      "123\n",
      "[123]\n"
     ]
    }
   ],
   "source": [
    "# using map\n",
    "a = list(map(int,input().split()))\n",
    "print(a)"
   ]
  },
  {
   "cell_type": "code",
   "execution_count": null,
   "metadata": {},
   "outputs": [],
   "source": []
  }
 ],
 "metadata": {
  "kernelspec": {
   "display_name": "Python 3",
   "language": "python",
   "name": "python3"
  },
  "language_info": {
   "codemirror_mode": {
    "name": "ipython",
    "version": 3
   },
   "file_extension": ".py",
   "mimetype": "text/x-python",
   "name": "python",
   "nbconvert_exporter": "python",
   "pygments_lexer": "ipython3",
   "version": "3.7.3"
  }
 },
 "nbformat": 4,
 "nbformat_minor": 2
}
