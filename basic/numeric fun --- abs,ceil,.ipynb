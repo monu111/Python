{
 "cells": [
  {
   "cell_type": "code",
   "execution_count": 5,
   "metadata": {},
   "outputs": [
    {
     "name": "stdout",
     "output_type": "stream",
     "text": [
      "5\n",
      "5\n",
      "56.455\n"
     ]
    }
   ],
   "source": [
    "# absolute function ---- it gives distance from num zero(for +ve right side & for -ve left side, from zero)\n",
    "print(abs(5))\n",
    "\n",
    "print(abs(-5))\n",
    "print(abs(56.455))"
   ]
  },
  {
   "cell_type": "code",
   "execution_count": 53,
   "metadata": {},
   "outputs": [
    {
     "name": "stdout",
     "output_type": "stream",
     "text": [
      "36\n",
      "-35\n"
     ]
    }
   ],
   "source": [
    "# ceiling fun  -----ceil function basiclly return next higher integer from given passed argument\n",
    "import math\n",
    "print(math.ceil(35.1))\n",
    "\n",
    "print(math.ceil(-35.74))\n",
    "\n"
   ]
  },
  {
   "cell_type": "code",
   "execution_count": 20,
   "metadata": {},
   "outputs": [
    {
     "name": "stdout",
     "output_type": "stream",
     "text": [
      "35\n",
      "-36\n"
     ]
    }
   ],
   "source": [
    "# flor fun------ floor function basically return next lower integer from given passed argument\n",
    "print(math.floor(35.74))\n",
    "print(math.floor(-35.74))"
   ]
  },
  {
   "cell_type": "code",
   "execution_count": 16,
   "metadata": {},
   "outputs": [
    {
     "data": {
      "text/plain": [
       "403.4287934927351"
      ]
     },
     "execution_count": 16,
     "metadata": {},
     "output_type": "execute_result"
    }
   ],
   "source": [
    "#    exponent fun\n",
    "math.e\n",
    "\n",
    " \n",
    "math.exp(6)\n",
    "\n",
    "\n",
    "\n"
   ]
  },
  {
   "cell_type": "code",
   "execution_count": 21,
   "metadata": {},
   "outputs": [
    {
     "data": {
      "text/plain": [
       "5.0"
      ]
     },
     "execution_count": 21,
     "metadata": {},
     "output_type": "execute_result"
    }
   ],
   "source": [
    "math.sqrt(25)"
   ]
  },
  {
   "cell_type": "code",
   "execution_count": 32,
   "metadata": {},
   "outputs": [
    {
     "name": "stdout",
     "output_type": "stream",
     "text": [
      "1.6094379124341003\n",
      "0.6989700043360189\n",
      "2.321928094887362\n",
      "1.0\n"
     ]
    }
   ],
   "source": [
    "#to find log value\n",
    "print(math.log(5))\n",
    "\n",
    "print(math.log10(5))\n",
    "\n",
    "print(math.log2(5))\n",
    "\n",
    "print(math.log(math.e))\n"
   ]
  },
  {
   "cell_type": "code",
   "execution_count": 33,
   "metadata": {},
   "outputs": [
    {
     "data": {
      "text/plain": [
       "51.5"
      ]
     },
     "execution_count": 33,
     "metadata": {},
     "output_type": "execute_result"
    }
   ],
   "source": [
    "# max fun() -- find the max value from given arguments\n",
    "max(10,20,30,40,50,-444444,51.5)\n"
   ]
  },
  {
   "cell_type": "code",
   "execution_count": 34,
   "metadata": {},
   "outputs": [
    {
     "data": {
      "text/plain": [
       "-1"
      ]
     },
     "execution_count": 34,
     "metadata": {},
     "output_type": "execute_result"
    }
   ],
   "source": [
    "# min fun -- find the min value from  the given arguments\n",
    "min(10,20,30,40,50,-1)"
   ]
  },
  {
   "cell_type": "code",
   "execution_count": 41,
   "metadata": {},
   "outputs": [
    {
     "data": {
      "text/plain": [
       "15"
      ]
     },
     "execution_count": 41,
     "metadata": {},
     "output_type": "execute_result"
    }
   ],
   "source": [
    "# round() - --- it gives round of  num  the given argument & 2 is for round of 2 desimal\n",
    "round(15.56785555858,2)\n",
    "\n",
    "\n",
    "round(15.45)"
   ]
  },
  {
   "cell_type": "code",
   "execution_count": 44,
   "metadata": {},
   "outputs": [
    {
     "data": {
      "text/plain": [
       "(0.9710000000000001, 11.0)"
      ]
     },
     "execution_count": 44,
     "metadata": {},
     "output_type": "execute_result"
    }
   ],
   "source": [
    "# modf fun() - when we pass fraction num ,then it return  two vales in tuple , in which consider fractional & int\n",
    "math.modf(11.971)"
   ]
  },
  {
   "cell_type": "code",
   "execution_count": 45,
   "metadata": {},
   "outputs": [
    {
     "data": {
      "text/plain": [
       "5.0"
      ]
     },
     "execution_count": 45,
     "metadata": {},
     "output_type": "execute_result"
    }
   ],
   "source": [
    "# find the hypoten in right triangle if there r base & perpendicular then\n",
    "math.hypot(3,4)"
   ]
  },
  {
   "cell_type": "code",
   "execution_count": 49,
   "metadata": {},
   "outputs": [
    {
     "name": "stdout",
     "output_type": "stream",
     "text": [
      "3.141592653589793\n"
     ]
    },
    {
     "data": {
      "text/plain": [
       "-229.1831180523293"
      ]
     },
     "execution_count": 49,
     "metadata": {},
     "output_type": "execute_result"
    }
   ],
   "source": [
    "print(math.pi)\n",
    "# put the value in argument of radian  value then we get degees value of given radian\n",
    "math.degrees(math.pi)\n",
    "\n",
    "math.degrees(-4)\n",
    "\n",
    "# radain from degree\n",
    "\n",
    "math.radians"
   ]
  },
  {
   "cell_type": "code",
   "execution_count": 1,
   "metadata": {},
   "outputs": [
    {
     "name": "stdout",
     "output_type": "stream",
     "text": [
      "1\n",
      "94\n",
      "15\n"
     ]
    }
   ],
   "source": [
    "# som other numeric fun\n",
    "\n",
    "print(min(1,2,3,4,5,6))\n",
    "print(max([14,8,94,3,5,4,1]))\n",
    "print(sum([1,2,3,4,5]))"
   ]
  },
  {
   "cell_type": "code",
   "execution_count": 3,
   "metadata": {},
   "outputs": [
    {
     "name": "stdout",
     "output_type": "stream",
     "text": [
      "30\n"
     ]
    }
   ],
   "source": [
    "a = min([sum([11,22]),max(abs(-30),2)])\n",
    "print(a)"
   ]
  },
  {
   "cell_type": "code",
   "execution_count": null,
   "metadata": {
    "collapsed": true
   },
   "outputs": [],
   "source": []
  }
 ],
 "metadata": {
  "kernelspec": {
   "display_name": "Python 3",
   "language": "python",
   "name": "python3"
  },
  "language_info": {
   "codemirror_mode": {
    "name": "ipython",
    "version": 3
   },
   "file_extension": ".py",
   "mimetype": "text/x-python",
   "name": "python",
   "nbconvert_exporter": "python",
   "pygments_lexer": "ipython3",
   "version": "3.6.1"
  }
 },
 "nbformat": 4,
 "nbformat_minor": 2
}
