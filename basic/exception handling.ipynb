{
 "cells": [
  {
   "cell_type": "code",
   "execution_count": null,
   "metadata": {},
   "outputs": [],
   "source": [
    "# when we divide by zero then we get error\n",
    "print(\"enter a numerator:\")\n",
    "num =input()\n",
    "print(\"enter a denometer\")\n",
    "den =input()\n",
    "res =int(num)//int(den)\n",
    "print(res)\n"
   ]
  },
  {
   "cell_type": "code",
   "execution_count": null,
   "metadata": {},
   "outputs": [
    {
     "name": "stdout",
     "output_type": "stream",
     "text": [
      "enter a numerator\n"
     ]
    }
   ],
   "source": [
    "#handle this exception we can use exception handling\n",
    "print(\"enter a numerator\")\n",
    "num =input()\n",
    "print(\"enter a denometer\")\n",
    "den =input()\n",
    "res =0\n",
    "try:\n",
    "    res = int(num)/int(den)\n",
    "except:\n",
    "    print(\"you can't divide by zero\")\n",
    "else:    \n",
    "    print(\"result\",res)"
   ]
  },
  {
   "cell_type": "code",
   "execution_count": null,
   "metadata": {},
   "outputs": [],
   "source": [
    "num =10\n",
    "den= 0\n",
    "try:\n",
    "    res = int(num)/int(den)\n",
    "except:\n",
    "    print(\"you can't divide by zeros\")\n",
    "else:\n",
    "    print(res)\n",
    "    \n",
    "    "
   ]
  },
  {
   "cell_type": "code",
   "execution_count": null,
   "metadata": {
    "scrolled": false
   },
   "outputs": [],
   "source": [
    "# finally - we can also use finally after the exception(code in finally statement always run)\n",
    "try:\n",
    "    print('hello')\n",
    "    print(5/0)\n",
    "except ZeroDivisionError:\n",
    "    print(\"divide by zero\")\n",
    "finally:\n",
    "    print(\"this code will run no matter what\")"
   ]
  },
  {
   "cell_type": "code",
   "execution_count": null,
   "metadata": {},
   "outputs": [],
   "source": [
    "try:\n",
    "    print(1)\n",
    "except:     # no excpetion caught \n",
    "    print(2)\n",
    "finally:\n",
    "    print(3)"
   ]
  },
  {
   "cell_type": "code",
   "execution_count": null,
   "metadata": {},
   "outputs": [],
   "source": [
    "try:\n",
    "    \n",
    "    print('hello')\n",
    "    print(10/0)\n",
    "except ZerroDivisionError:\n",
    "    print(unknown_var)\n",
    "finally:\n",
    "    print(\"this code will run if any error occur in except block\")"
   ]
  },
  {
   "cell_type": "code",
   "execution_count": null,
   "metadata": {},
   "outputs": [],
   "source": [
    "# raise ==== you can raise exception, its gives the exception\n",
    "print(1)\n",
    "raise ValueError\n",
    "print(2)"
   ]
  },
  {
   "cell_type": "code",
   "execution_count": null,
   "metadata": {},
   "outputs": [],
   "source": [
    "# raise exception with argument\n",
    "name = '123'\n",
    "raise NameError(\"invalid syntax\")"
   ]
  },
  {
   "cell_type": "code",
   "execution_count": null,
   "metadata": {},
   "outputs": [],
   "source": [
    "try:\n",
    "    num = 5/0\n",
    "except:\n",
    "    print(\"error\")\n",
    "    raise       "
   ]
  },
  {
   "cell_type": "code",
   "execution_count": null,
   "metadata": {},
   "outputs": [],
   "source": []
  }
 ],
 "metadata": {
  "kernelspec": {
   "display_name": "Python 3",
   "language": "python",
   "name": "python3"
  },
  "language_info": {
   "codemirror_mode": {
    "name": "ipython",
    "version": 3
   },
   "file_extension": ".py",
   "mimetype": "text/x-python",
   "name": "python",
   "nbconvert_exporter": "python",
   "pygments_lexer": "ipython3",
   "version": "3.8.5"
  }
 },
 "nbformat": 4,
 "nbformat_minor": 2
}
