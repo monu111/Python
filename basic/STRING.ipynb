{
 "cells": [
  {
   "cell_type": "code",
   "execution_count": 1,
   "metadata": {},
   "outputs": [],
   "source": [
    "# capitalize() =====> str.capitalize() =====> it convert first letter of string in uppercase\n",
    "\n",
    "s = \"i am the best\"\n",
    "s.capitalize()"
   ]
  },
  {
   "cell_type": "code",
   "execution_count": 6,
   "metadata": {},
   "outputs": [
    {
     "ename": "SyntaxError",
     "evalue": "invalid syntax (<ipython-input-6-63a5e6349694>, line 7)",
     "output_type": "error",
     "traceback": [
      "\u001b[1;36m  File \u001b[1;32m\"<ipython-input-6-63a5e6349694>\"\u001b[1;36m, line \u001b[1;32m7\u001b[0m\n\u001b[1;33m    str = \"\"\"monu is excellent\u001b[0m\n\u001b[1;37m      ^\u001b[0m\n\u001b[1;31mSyntaxError\u001b[0m\u001b[1;31m:\u001b[0m invalid syntax\n"
     ]
    }
   ],
   "source": [
    "# count() it count the values,  count(\"value\",begnining,end(index))\n",
    "\n",
    "\n",
    "\n",
    "str = \"\"\"monu is excellent\n",
    "      monu can be the better\n",
    "      monu you can do anything\n",
    "      monu you have to believe in yourself\"\"\"\n",
    "print(str.count(\"can\"))"
   ]
  },
  {
   "cell_type": "code",
   "execution_count": 8,
   "metadata": {},
   "outputs": [
    {
     "name": "stdout",
     "output_type": "stream",
     "text": [
      "True\n",
      "False\n"
     ]
    }
   ],
   "source": [
    "#endswith()  ====> check the ending part of the string & return True and false\n",
    "#str1.endswith(\"value\")\n",
    "\n",
    "\n",
    "s = \"my name is monu\"\n",
    "print(s.endswith(\"monu\"))\n",
    "print(s.endswith(\"sonu\"))\n"
   ]
  },
  {
   "cell_type": "code",
   "execution_count": 10,
   "metadata": {},
   "outputs": [
    {
     "name": "stdout",
     "output_type": "stream",
     "text": [
      "True\n"
     ]
    }
   ],
   "source": [
    "# startswith(\"str\") ======>  check starting bpart of string ,and return true and false\n",
    "\n",
    "s = \"my name is monu\"\n",
    "print(s.startswith(\"my\"))"
   ]
  },
  {
   "cell_type": "code",
   "execution_count": 9,
   "metadata": {},
   "outputs": [
    {
     "name": "stdout",
     "output_type": "stream",
     "text": [
      "True\n"
     ]
    }
   ],
   "source": [
    "s = \"my name is monu\"\n",
    "print(s.startswith(\"is\",8,len(s)))"
   ]
  },
  {
   "cell_type": "code",
   "execution_count": 12,
   "metadata": {},
   "outputs": [
    {
     "name": "stdout",
     "output_type": "stream",
     "text": [
      "8\n",
      "-1\n"
     ]
    }
   ],
   "source": [
    "# find =====> it find the argument present in a given string or not ,and return index number\n",
    "# it return -1 if value not in given string\n",
    "# find(value,beg,end) ====> \n",
    "\n",
    "\n",
    "s = \"my name is mony,i am cool\"\n",
    "print(s.find(\"i\"))\n",
    "\n",
    "print(s.find(\"nom\"))\n",
    "\n",
    "\n",
    "# find(value,beg(index),end(index))"
   ]
  },
  {
   "cell_type": "code",
   "execution_count": 3,
   "metadata": {},
   "outputs": [
    {
     "name": "stdout",
     "output_type": "stream",
     "text": [
      "17\n"
     ]
    }
   ],
   "source": [
    "# find(\"value\",beg(index),end(index))\n",
    "\n",
    "s = \" my name is monu how are you, what you do for work\"\n",
    "print(s.find(\"how\",3,len(s)))\n"
   ]
  },
  {
   "cell_type": "code",
   "execution_count": 14,
   "metadata": {},
   "outputs": [
    {
     "name": "stdout",
     "output_type": "stream",
     "text": [
      "False\n",
      "True\n"
     ]
    }
   ],
   "source": [
    "# is lower()  ===> check all letter in lower case or not & retrurn T,F\n",
    "\n",
    "str = \"Helloo World\"\n",
    "print(str.islower())\n",
    "\n",
    "\n",
    "str = \"hello \"\n",
    "print(str.islower())"
   ]
  },
  {
   "cell_type": "code",
   "execution_count": 16,
   "metadata": {},
   "outputs": [
    {
     "name": "stdout",
     "output_type": "stream",
     "text": [
      "False\n",
      "True\n"
     ]
    }
   ],
   "source": [
    "# isupper()  =====> check all letter in uppperc ase or not and return true and flase\n",
    "\n",
    "\n",
    "\n",
    "str = \"hello World\"\n",
    "print(str.isupper())\n",
    "\n",
    "s = \"HELLO\"\n",
    "print(s.isupper())"
   ]
  },
  {
   "cell_type": "code",
   "execution_count": 17,
   "metadata": {},
   "outputs": [
    {
     "name": "stdout",
     "output_type": "stream",
     "text": [
      "hello\n"
     ]
    }
   ],
   "source": [
    "# lower() ====> convert all letter in lower case\n",
    "\n",
    "str = \"Hello\"\n",
    "print(str.lower())"
   ]
  },
  {
   "cell_type": "code",
   "execution_count": 18,
   "metadata": {},
   "outputs": [
    {
     "name": "stdout",
     "output_type": "stream",
     "text": [
      "HELLO\n"
     ]
    }
   ],
   "source": [
    "# upper()  ====> convert all letter in uppercase\n",
    "str = \"hello\"\n",
    "print(str.upper())"
   ]
  },
  {
   "cell_type": "code",
   "execution_count": 24,
   "metadata": {},
   "outputs": [
    {
     "name": "stdout",
     "output_type": "stream",
     "text": [
      " whats up\n",
      "whats7777 up\n"
     ]
    }
   ],
   "source": [
    "#lstrip() ===> it remove char from left side\n",
    "\n",
    "str1 = \"!!! whats up\"\n",
    "print(str1.lstrip(\"!\"))\n",
    "\n",
    "\n",
    "s = \"whats7777 up\"\n",
    "print(s.lstrip(\"7\"))  # value must be at the begining for working"
   ]
  },
  {
   "cell_type": "code",
   "execution_count": 27,
   "metadata": {},
   "outputs": [
    {
     "name": "stdout",
     "output_type": "stream",
     "text": [
      "77777this 7777is cool\n",
      "77777this 7777is cool*****\n"
     ]
    }
   ],
   "source": [
    "# rstrip()=====> it  remove char from the right side\n",
    "\n",
    "str1 = \"77777this 7777is cool*****\"\n",
    "print(str1.rstrip(\"*\"))  # value must be at the end(rightside) \n",
    "\n",
    "print(str1.rstrip(\"7\"))"
   ]
  },
  {
   "cell_type": "code",
   "execution_count": 28,
   "metadata": {},
   "outputs": [
    {
     "name": "stdout",
     "output_type": "stream",
     "text": [
      "monu is$$$cool guy\n"
     ]
    }
   ],
   "source": [
    "# strip()  ====> it remove char from the rightside and left side(start and end)\n",
    "\n",
    "str1 = \"####monu is$$$cool guy&&&&&\"\n",
    "print(str1.strip(\"#$&\"))"
   ]
  },
  {
   "cell_type": "code",
   "execution_count": 30,
   "metadata": {},
   "outputs": [
    {
     "name": "stdout",
     "output_type": "stream",
     "text": [
      "####monu is$$$cool guy&&&&&\n"
     ]
    }
   ],
   "source": [
    "\n",
    "str1 = \"####monu is$$$cool guy&&&&&\"\n",
    "print(str1.strip(\"$\"))"
   ]
  },
  {
   "cell_type": "code",
   "execution_count": 31,
   "metadata": {},
   "outputs": [
    {
     "name": "stdout",
     "output_type": "stream",
     "text": [
      "I once had a lion\n"
     ]
    }
   ],
   "source": [
    "# replace(\"value\") ====> it replace value from the string\n",
    "\n",
    "str = \"I once had a fox\"\n",
    "print(str.replace(\"fox\",\"lion\"))"
   ]
  },
  {
   "cell_type": "code",
   "execution_count": 4,
   "metadata": {},
   "outputs": [
    {
     "name": "stdout",
     "output_type": "stream",
     "text": [
      "['Tom', 'Cruce']\n",
      "['monu']\n",
      "['monu khan']\n"
     ]
    }
   ],
   "source": [
    "#split()  ===> split thye word and char in the string\n",
    "\n",
    "str = \"Tom Cruce\"\n",
    "print(str.split())\n",
    "\n",
    "# note it split base on whitespace\n",
    "\n",
    "str = \"monu\"\n",
    "print(str.split())  # here there is no space so it can be split\n",
    "\n",
    "\n",
    "str  = \"monu khan\"\n",
    "print(str.split(\",\"))  # here comma is seperator\n"
   ]
  },
  {
   "cell_type": "code",
   "execution_count": 6,
   "metadata": {},
   "outputs": [
    {
     "name": "stdout",
     "output_type": "stream",
     "text": [
      "i LOVE python\n"
     ]
    }
   ],
   "source": [
    "# swapcase()  =====> it swap lowercase letter in uppercase and uppercase letter into lowercase\n",
    "\n",
    "str = \"I love PYTHON\"\n",
    "print(str.swapcase())"
   ]
  },
  {
   "cell_type": "code",
   "execution_count": 8,
   "metadata": {},
   "outputs": [
    {
     "name": "stdout",
     "output_type": "stream",
     "text": [
      " I Love Python\n"
     ]
    }
   ],
   "source": [
    "#title() ==== it convert every word first letter in uppercase\n",
    "\n",
    "s = \" i love Python\"\n",
    "print(s.title())"
   ]
  },
  {
   "cell_type": "code",
   "execution_count": 10,
   "metadata": {},
   "outputs": [
    {
     "name": "stdout",
     "output_type": "stream",
     "text": [
      "NUMBER:466\n"
     ]
    }
   ],
   "source": [
    "# string Formatting\n",
    "\n",
    "num = [4,5,6]\n",
    "msg = \"NUMBER:{0}{2}{2}\".format(num[0],num[1],num[2])\n",
    "print(msg)"
   ]
  },
  {
   "cell_type": "code",
   "execution_count": 3,
   "metadata": {},
   "outputs": [
    {
     "name": "stdout",
     "output_type": "stream",
     "text": [
      "5,10\n",
      "7$55$5\n"
     ]
    }
   ],
   "source": [
    "# string formating\n",
    "a = \"{x},{y}\".format(x=5,y= 10)\n",
    "print(a)\n",
    "\n",
    "\n",
    "str= \"{c}${b}${a}\".format(a=5,b=55,c=7)\n",
    "print(str)"
   ]
  },
  {
   "cell_type": "code",
   "execution_count": 12,
   "metadata": {},
   "outputs": [
    {
     "name": "stdout",
     "output_type": "stream",
     "text": [
      "1-2-3-4\n",
      "456789\n",
      "4 5 6 7 8 9\n",
      "1,2,3,4,5,6\n",
      "1@2@3@4@5@6\n"
     ]
    }
   ],
   "source": [
    "# join ===\n",
    "list = [\"1\",'2','3','4']  # item in the list must string type\n",
    "print(\"-\".join(list))\n",
    "\n",
    "\n",
    "\n",
    "s = input()   # 456789\n",
    "print(\" \".join(s))\n",
    "\n",
    "\n",
    "s = input().split(\",\")  # i/p === 1,2,3,4,5,6\n",
    "print(\"@\".join(s))"
   ]
  },
  {
   "cell_type": "code",
   "execution_count": 19,
   "metadata": {},
   "outputs": [
    {
     "name": "stdout",
     "output_type": "stream",
     "text": [
      "00000hello\n",
      "0000000000000000000000000hello\n",
      "-0000290\n",
      "-00000000-randomlist\n"
     ]
    }
   ],
   "source": [
    "# #    text.zfll(\"num\") =====> fil with zero \n",
    "\n",
    "str = \"hello\"\n",
    "print(str.zfill(10))\n",
    "\n",
    "print(str.zfill(30))\n",
    "\n",
    "\n",
    "#  how it works with single prefix ,zfill(-)\n",
    "\n",
    "\n",
    "s = \"-290\"\n",
    "print(s.zfill(8))\n",
    "\n",
    "s = \"--randomlist\"\n",
    "print(s.zfill(20))"
   ]
  },
  {
   "cell_type": "code",
   "execution_count": 2,
   "metadata": {},
   "outputs": [
    {
     "name": "stdout",
     "output_type": "stream",
     "text": [
      "XXXhelloXXX\n"
     ]
    }
   ],
   "source": [
    "# center(width,'fillchar')===> in which string in the centre and we can fill char\n",
    "\n",
    "s = \"hello\"\n",
    "print(s.center(11,\"X\"))"
   ]
  },
  {
   "cell_type": "code",
   "execution_count": 2,
   "metadata": {},
   "outputs": [
    {
     "name": "stdout",
     "output_type": "stream",
     "text": [
      "16\n",
      "16\n"
     ]
    }
   ],
   "source": [
    "# index(\"value\") ====> find the index value in given string \n",
    "s = \"my name is monu how are u\"\n",
    "print(s.index(\"how\"))\n",
    "\n",
    "\n",
    "print(s.index(\"how\",5,len(s)))"
   ]
  },
  {
   "cell_type": "code",
   "execution_count": 4,
   "metadata": {},
   "outputs": [
    {
     "name": "stdout",
     "output_type": "stream",
     "text": [
      "False\n",
      "True\n"
     ]
    }
   ],
   "source": [
    "#  istitle() check all words start with uppercase letter \n",
    "\n",
    "s= \"my love\"\n",
    "\n",
    "s1 = \"My Love\"\n",
    "print(s.istitle())\n",
    "print(s1.istitle())"
   ]
  },
  {
   "cell_type": "code",
   "execution_count": 14,
   "metadata": {},
   "outputs": [
    {
     "name": "stdout",
     "output_type": "stream",
     "text": [
      "38\n",
      "38\n",
      "38\n",
      "38\n"
     ]
    }
   ],
   "source": [
    "# rfind(str,beg,end)   =====> give the last occurence of index position in a given string\n",
    "\n",
    "s = \"monu is good boy, monu is dasingf boy,monu is smart\"\n",
    "print(s.rfind(\"monu\"))\n",
    "print(s.rfind(\"monu\",10,len(s)))\n",
    "\n",
    "###########\n",
    "print(s.rindex(\"monu\"))\n",
    "print(s.rindex(\"monu\",10,len(s)))    \n",
    "\n",
    "\n",
    "\n",
    "######\n",
    "# note :>    rfind & rindex === take index posion from right side(means last occurence of index postion of the given value in string)\n",
    "#      ;>     find & index  === take index posion from left side(means first occurence of index poistion of the given value in string)"
   ]
  },
  {
   "cell_type": "code",
   "execution_count": 18,
   "metadata": {},
   "outputs": [
    {
     "name": "stdout",
     "output_type": "stream",
     "text": [
      "y\n",
      "b\n",
      " \n"
     ]
    }
   ],
   "source": [
    "# max(str) ====> max value of char in given string\n",
    "# min(str)  ===> min value of char in given string\n",
    "s = \"coolboys\"\n",
    "print(max(s))\n",
    "\n",
    "print(min(s))\n",
    "\n",
    "\n",
    "# space is least precedence when we applied min()\n",
    "\n",
    "str = \"hello boys\"\n",
    "print(min(str))  # "
   ]
  },
  {
   "cell_type": "code",
   "execution_count": null,
   "metadata": {},
   "outputs": [],
   "source": [
    "#                                                                                                         "
   ]
  }
 ],
 "metadata": {
  "kernelspec": {
   "display_name": "Python 3",
   "language": "python",
   "name": "python3"
  },
  "language_info": {
   "codemirror_mode": {
    "name": "ipython",
    "version": 3
   },
   "file_extension": ".py",
   "mimetype": "text/x-python",
   "name": "python",
   "nbconvert_exporter": "python",
   "pygments_lexer": "ipython3",
   "version": "3.7.3"
  }
 },
 "nbformat": 4,
 "nbformat_minor": 2
}
