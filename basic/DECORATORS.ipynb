{
 "cells": [
  {
   "cell_type": "markdown",
   "metadata": {},
   "source": [
    "decorator == provide a way to modify function using other function"
   ]
  },
  {
   "cell_type": "code",
   "execution_count": 1,
   "metadata": {},
   "outputs": [
    {
     "name": "stdout",
     "output_type": "stream",
     "text": [
      "==================\n",
      "hello world\n",
      "===================\n"
     ]
    }
   ],
   "source": [
    "def decor(func):\n",
    "    def wrap():\n",
    "        print(\"==================\")\n",
    "        func()\n",
    "        print(\"===================\")\n",
    "    return wrap\n",
    "\n",
    "@decor\n",
    "def print_text():\n",
    "    print(\"hello world\")\n",
    "print_text()    \n"
   ]
  },
  {
   "cell_type": "code",
   "execution_count": 2,
   "metadata": {},
   "outputs": [
    {
     "name": "stdout",
     "output_type": "stream",
     "text": [
      "++++++++++++++++\n",
      "hello world\n",
      "++++++++++++++++++++\n"
     ]
    }
   ],
   "source": [
    "#or different way to print\n",
    "\n",
    "def decor(func):\n",
    "    def wrap():\n",
    "        print(\"++++++++++++++++\")\n",
    "        func()\n",
    "        print('++++++++++++++++++++')\n",
    "    return wrap\n",
    "\n",
    "def print_text():\n",
    "    print(\"hello world\")   \n",
    "    \n",
    "decoreted = decor(print_text)\n",
    "decoreted()"
   ]
  },
  {
   "cell_type": "code",
   "execution_count": 3,
   "metadata": {},
   "outputs": [
    {
     "name": "stdout",
     "output_type": "stream",
     "text": [
      "+++++++++++++++++++\n",
      "hello world\n",
      "cool how are u\n",
      "!!!!!!!!!!!!!!!!!!!!!\n"
     ]
    }
   ],
   "source": [
    "# takiong arguments\n",
    "\n",
    "def decor(fun1,fun2):\n",
    "    def wrap():\n",
    "        print(\"+++++++++++++++++++\")\n",
    "        fun1()\n",
    "        fun2()\n",
    "        print(\"!!!!!!!!!!!!!!!!!!!!!\")\n",
    "    return wrap\n",
    "\n",
    "def print_text():\n",
    "    print(\"hello world\")\n",
    "\n",
    "def print_text1():\n",
    "    print(\"cool how are u\")\n",
    "    \n",
    "print_tex = decor(print_text,print_text1)\n",
    "print_tex()"
   ]
  },
  {
   "cell_type": "code",
   "execution_count": 4,
   "metadata": {},
   "outputs": [
    {
     "name": "stdout",
     "output_type": "stream",
     "text": [
      "++++++++++++\n",
      "-----------\n",
      "hello world\n",
      "__________\n",
      "++++++++++++\n"
     ]
    }
   ],
   "source": [
    "# ###############\n",
    "def decor(func):\n",
    "    def wrap():\n",
    "        print(\"++++++++++++\")\n",
    "        func()\n",
    "        print(\"++++++++++++\")\n",
    "    return wrap \n",
    "\n",
    "def decor1(func):\n",
    "    def t():\n",
    "        print(\"-----------\")\n",
    "        func()\n",
    "        print(\"__________\")\n",
    "    return t\n",
    "\n",
    "@decor\n",
    "@decor1\n",
    "\n",
    "def print_text():\n",
    "    print(\"hello world\")\n",
    "print_text()\n",
    "\n",
    "        "
   ]
  },
  {
   "cell_type": "code",
   "execution_count": 5,
   "metadata": {},
   "outputs": [
    {
     "name": "stdout",
     "output_type": "stream",
     "text": [
      "**********\n",
      "&&&&&&&&&&&&&\n",
      "&&&&&&&&&&&&&\n",
      "hello world\n",
      "##############\n",
      "##############\n",
      "**********\n"
     ]
    }
   ],
   "source": [
    "#########################\n",
    "def decor(func):\n",
    "    \n",
    "    def wrap():\n",
    "        print(\"**********\")\n",
    "        func()\n",
    "        print(\"**********\")\n",
    "    return wrap\n",
    "\n",
    "def decor1(func):\n",
    "    \n",
    "    def wrap1():\n",
    "        print(\"&&&&&&&&&&&&&\")\n",
    "        func()\n",
    "        print(\"##############\")\n",
    "    return wrap1\n",
    "\n",
    "@decor\n",
    "@decor1\n",
    "@decor1\n",
    "\n",
    "def print_text():\n",
    "    print(\"hello world\")\n",
    "print_text()    "
   ]
  },
  {
   "cell_type": "code",
   "execution_count": null,
   "metadata": {},
   "outputs": [],
   "source": []
  },
  {
   "cell_type": "code",
   "execution_count": null,
   "metadata": {},
   "outputs": [],
   "source": []
  }
 ],
 "metadata": {
  "kernelspec": {
   "display_name": "Python 3",
   "language": "python",
   "name": "python3"
  },
  "language_info": {
   "codemirror_mode": {
    "name": "ipython",
    "version": 3
   },
   "file_extension": ".py",
   "mimetype": "text/x-python",
   "name": "python",
   "nbconvert_exporter": "python",
   "pygments_lexer": "ipython3",
   "version": "3.8.5"
  }
 },
 "nbformat": 4,
 "nbformat_minor": 2
}
