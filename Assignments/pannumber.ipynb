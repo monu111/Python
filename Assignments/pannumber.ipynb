{
 "cells": [
  {
   "cell_type": "markdown",
   "metadata": {},
   "source": [
    "# panDigit num = like 1234567890000333, 54352169870\n",
    "# at least one time all number reapeated from 0 to 9"
   ]
  },
  {
   "cell_type": "code",
   "execution_count": 2,
   "metadata": {},
   "outputs": [
    {
     "name": "stdout",
     "output_type": "stream",
     "text": [
      "12334456789000\n",
      "the number is pandigit and occurence of each digit are given:\n",
      "0 :  3\n",
      "1 :  1\n",
      "2 :  1\n",
      "3 :  2\n",
      "4 :  2\n",
      "5 :  1\n",
      "6 :  1\n",
      "7 :  1\n",
      "8 :  1\n",
      "9 :  1\n"
     ]
    }
   ],
   "source": [
    "x = input()\n",
    "if not ('0' in x and '1'in x and '2' in x and '3' in x and '4'in x and '5' in x and '6' in x and '7' in x and '8' in x and  '9' in x):\n",
    "    print('num is not pannumber')\n",
    "    \n",
    "else:\n",
    "    print(\"the number is pandigit and occurence of each digit are given:\")\n",
    "    print('0 :  '+str(x.count('0')))\n",
    "    print('1 :  '+str(x.count('1')))\n",
    "    print('2 :  '+str(x.count('2')))\n",
    "    print('3 :  '+str(x.count('3')))\n",
    "    print('4 :  '+str(x.count('4')))\n",
    "    print('5 :  '+str(x.count('5')))\n",
    "    print('6 :  '+str(x.count('6')))\n",
    "    print('7 :  '+str(x.count('7')))\n",
    "    print('8 :  '+str(x.count('8')))\n",
    "    print('9 :  '+str(x.count('9')))\n",
    "\n",
    "\n",
    "    \n",
    "    "
   ]
  },
  {
   "cell_type": "markdown",
   "metadata": {},
   "source": []
  },
  {
   "cell_type": "code",
   "execution_count": null,
   "metadata": {
    "collapsed": true
   },
   "outputs": [],
   "source": []
  }
 ],
 "metadata": {
  "kernelspec": {
   "display_name": "Python 3",
   "language": "python",
   "name": "python3"
  },
  "language_info": {
   "codemirror_mode": {
    "name": "ipython",
    "version": 3
   },
   "file_extension": ".py",
   "mimetype": "text/x-python",
   "name": "python",
   "nbconvert_exporter": "python",
   "pygments_lexer": "ipython3",
   "version": "3.8.5"
  }
 },
 "nbformat": 4,
 "nbformat_minor": 2
}
