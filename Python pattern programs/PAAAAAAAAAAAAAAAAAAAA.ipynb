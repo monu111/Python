{
 "cells": [
  {
   "cell_type": "code",
   "execution_count": 1,
   "metadata": {},
   "outputs": [
    {
     "name": "stdout",
     "output_type": "stream",
     "text": [
      "*\n",
      "**\n",
      "***\n",
      "****\n",
      "*****\n",
      "*\n",
      "**\n",
      "***\n",
      "****\n",
      "*****\n"
     ]
    }
   ],
   "source": [
    "#   *\n",
    "#   **\n",
    "#   ***\n",
    "#   ****\n",
    "#   *****\n",
    "\n",
    "for r in range(1,5+1):\n",
    "    for c in range(1,r+1):\n",
    "        print(\"*\",end = \"\")\n",
    "    print()    \n",
    "\n",
    "# short term\n",
    "\n",
    "for r in range(1,5+1):\n",
    "    print(\"*\"*r)"
   ]
  },
  {
   "cell_type": "code",
   "execution_count": 2,
   "metadata": {},
   "outputs": [
    {
     "name": "stdout",
     "output_type": "stream",
     "text": [
      "*****\n",
      "****\n",
      "***\n",
      "**\n",
      "*\n",
      "88888\n",
      "8888\n",
      "888\n",
      "88\n",
      "8\n"
     ]
    }
   ],
   "source": [
    "# *****\n",
    "# ****\n",
    "# ***\n",
    "# **\n",
    "# *\n",
    "\n",
    "\n",
    "for r in range(5,0,-1):\n",
    "    for c in range(1,r+1):\n",
    "        print(\"*\",end = \"\")\n",
    "    print()   \n",
    "    \n",
    "    \n",
    "#short\n",
    "\n",
    "for r in range(5,0,-1):\n",
    "    print(\"8\"*r)"
   ]
  },
  {
   "cell_type": "code",
   "execution_count": 3,
   "metadata": {},
   "outputs": [
    {
     "name": "stdout",
     "output_type": "stream",
     "text": [
      "    *\n",
      "   **\n",
      "  ***\n",
      " ****\n",
      "*****\n",
      "    *\n",
      "   **\n",
      "  ***\n",
      " ****\n",
      "*****\n"
     ]
    }
   ],
   "source": [
    "for r in range(1,5+1):\n",
    "    for s in range(1,(5-r)+1):\n",
    "        print(\" \",end = \"\")\n",
    "    for c in range(1,r+1):\n",
    "        print(\"*\",end = \"\")\n",
    "    print()    \n",
    "    \n",
    "# short\n",
    "\n",
    "for r in range(1,5+1):\n",
    "    print(\" \"*(5-r)+\"*\"*r)\n",
    "\n"
   ]
  },
  {
   "cell_type": "code",
   "execution_count": 4,
   "metadata": {},
   "outputs": [
    {
     "name": "stdout",
     "output_type": "stream",
     "text": [
      "*****\n",
      " ****\n",
      "  ***\n",
      "   **\n",
      "    *\n",
      "*****\n",
      " ****\n",
      "  ***\n",
      "   **\n",
      "    *\n"
     ]
    }
   ],
   "source": [
    "for r in range(5,0,-1):\n",
    "    for s in range(1,(5-r)+1):\n",
    "        print(\" \",end = \"\")\n",
    "    for c in range(1,r+1):\n",
    "        print(\"*\",end = \"\")\n",
    "    print()    \n",
    "    \n",
    "    \n",
    "# short\n",
    "\n",
    "for r in range(5,0,-1):\n",
    "    print(\" \"*(5-r)+\"*\"*r)"
   ]
  },
  {
   "cell_type": "code",
   "execution_count": 5,
   "metadata": {},
   "outputs": [
    {
     "name": "stdout",
     "output_type": "stream",
     "text": [
      "5\n",
      "    * \n",
      "   * * \n",
      "  * * * \n",
      " * * * * \n",
      "* * * * * \n"
     ]
    }
   ],
   "source": [
    "# pyramid pattern\n",
    "\n",
    "num = int(input())\n",
    "def pyramid(num):\n",
    "    for r in range(1,num+1):\n",
    "        print(\" \"*(num-r)+\"* \"*r)\n",
    "\n",
    "pyramid(num)"
   ]
  },
  {
   "cell_type": "code",
   "execution_count": 6,
   "metadata": {},
   "outputs": [
    {
     "name": "stdout",
     "output_type": "stream",
     "text": [
      "5\n",
      "    * \n",
      "   * * \n",
      "  * * * \n",
      " * * * * \n",
      "* * * * * \n",
      " * * * * \n",
      "  * * * \n",
      "   * * \n",
      "    * \n"
     ]
    }
   ],
   "source": [
    "# diamond pattern\n",
    "num = int(input())\n",
    "def diamond(num):\n",
    "    for r in range(1,num+1):\n",
    "        print(\" \"*(num-r)+\"* \"*r)\n",
    "    for j in range(num-1,0,-1):\n",
    "        print(\" \"*(num-j)+\"* \"*j)\n",
    "diamond(num)        "
   ]
  },
  {
   "cell_type": "code",
   "execution_count": 11,
   "metadata": {},
   "outputs": [
    {
     "name": "stdout",
     "output_type": "stream",
     "text": [
      "python\n",
      "\n",
      "p\n",
      "py\n",
      "pyt\n",
      "pyth\n",
      "pytho\n",
      "python\n",
      "python\n",
      "\n",
      "p\n",
      "py\n",
      "pyt\n",
      "pyth\n",
      "pytho\n",
      "python\n"
     ]
    }
   ],
   "source": [
    "name = input()\n",
    "for r in range(0,len(name)+1):\n",
    "    for c in range(0,r):\n",
    "        print(name[c],end = \"\")\n",
    "    print()\n",
    "    \n",
    "# short\n",
    "\n",
    "name = input()\n",
    "for r in range(0,len(name)+1):\n",
    "    print(name[:r])"
   ]
  },
  {
   "cell_type": "code",
   "execution_count": 10,
   "metadata": {},
   "outputs": [
    {
     "name": "stdout",
     "output_type": "stream",
     "text": [
      "python\n",
      "python\n",
      "pytho\n",
      "pyth\n",
      "pyt\n",
      "py\n",
      "p\n",
      "python\n",
      "python\n",
      "pytho\n",
      "pyth\n",
      "pyt\n",
      "py\n",
      "p\n"
     ]
    }
   ],
   "source": [
    "name = input()\n",
    "for r in range(len(name),0,-1):\n",
    "    for c in range(0,r):\n",
    "        print(name[c],end = '')\n",
    "    print()\n",
    "    \n",
    "    \n",
    "# short\n",
    "name = input()\n",
    "for r in range(len(name),0,-1):\n",
    "    print(name[:r])\n",
    "    "
   ]
  },
  {
   "cell_type": "code",
   "execution_count": 12,
   "metadata": {},
   "outputs": [
    {
     "name": "stdout",
     "output_type": "stream",
     "text": [
      "python\n",
      "       p\n",
      "      py\n",
      "     pyt\n",
      "    pyth\n",
      "   pytho\n",
      "  python\n",
      "      \n",
      "     p\n",
      "    py\n",
      "   pyt\n",
      "  pyth\n",
      " pytho\n",
      "python\n"
     ]
    }
   ],
   "source": [
    "name = input()\n",
    "for r in range(0,len(name)):\n",
    "    for s in range(0,(len(name)-r)+1):\n",
    "        print(\" \",end = '')\n",
    "    for c in range(0,r+1):\n",
    "        print(name[c],end = \"\")\n",
    "    print()    \n",
    "    \n",
    "\n",
    "# short\n",
    "\n",
    "for r in range(0,len(name)+1):\n",
    "    print(\" \"*(len(name)-r)+name[:r])"
   ]
  },
  {
   "cell_type": "code",
   "execution_count": 1,
   "metadata": {},
   "outputs": [
    {
     "name": "stdout",
     "output_type": "stream",
     "text": [
      "python\n",
      " python\n",
      "  pytho\n",
      "   pyth\n",
      "    pyt\n",
      "     py\n",
      "      p\n",
      "python\n",
      "python\n",
      " pytho\n",
      "  pyth\n",
      "   pyt\n",
      "    py\n",
      "     p\n"
     ]
    }
   ],
   "source": [
    "name = input()\n",
    "for r in range(len(name),0,-1):\n",
    "    for s in range(0,(len(name)-r)+1):\n",
    "        print(\" \",end = '')\n",
    "    for c in range(0,r):\n",
    "        print(name[c],end = '')\n",
    "    print()  \n",
    "    \n",
    "    \n",
    "    \n",
    "# \n",
    "name = input()\n",
    "for r in range(len(name),0,-1):\n",
    "    print(\" \"*(len(name)-r)+name[:r])\n",
    "    "
   ]
  },
  {
   "cell_type": "code",
   "execution_count": 13,
   "metadata": {},
   "outputs": [
    {
     "name": "stdout",
     "output_type": "stream",
     "text": [
      "p\n",
      "y\n",
      "t\n",
      "h\n",
      "o\n",
      "n\n"
     ]
    }
   ],
   "source": [
    "name = \"python\"\n",
    "#for i in range(len(name),0,-1):\n",
    "#   print(i)\n",
    "    \n",
    "for j in range(0,len(name)):\n",
    "    print(name[j])"
   ]
  },
  {
   "cell_type": "code",
   "execution_count": null,
   "metadata": {},
   "outputs": [],
   "source": []
  }
 ],
 "metadata": {
  "kernelspec": {
   "display_name": "Python 3",
   "language": "python",
   "name": "python3"
  },
  "language_info": {
   "codemirror_mode": {
    "name": "ipython",
    "version": 3
   },
   "file_extension": ".py",
   "mimetype": "text/x-python",
   "name": "python",
   "nbconvert_exporter": "python",
   "pygments_lexer": "ipython3",
   "version": "3.8.5"
  }
 },
 "nbformat": 4,
 "nbformat_minor": 2
}
