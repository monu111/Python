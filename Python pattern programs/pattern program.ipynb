{
 "cells": [
  {
   "cell_type": "code",
   "execution_count": 3,
   "metadata": {},
   "outputs": [
    {
     "name": "stdout",
     "output_type": "stream",
     "text": [
      "$\n",
      "$$\n",
      "$$$\n",
      "$$$$\n",
      "$$$$$\n"
     ]
    }
   ],
   "source": [
    "for r in range(1,5+1):\n",
    "    for c in range(1,r+1):\n",
    "        print(\"$\",end=\"\")\n",
    "    print()    "
   ]
  },
  {
   "cell_type": "code",
   "execution_count": 4,
   "metadata": {},
   "outputs": [
    {
     "name": "stdout",
     "output_type": "stream",
     "text": [
      "#####\n",
      "####\n",
      "###\n",
      "##\n",
      "#\n"
     ]
    }
   ],
   "source": [
    "for r in range(1,5+1):\n",
    "    for c in range(1,6-r+1):\n",
    "        print(\"#\",end='')\n",
    "    print()"
   ]
  },
  {
   "cell_type": "code",
   "execution_count": 5,
   "metadata": {},
   "outputs": [
    {
     "name": "stdout",
     "output_type": "stream",
     "text": [
      "    $\n",
      "   $$\n",
      "  $$$\n",
      " $$$$\n",
      "$$$$$\n"
     ]
    }
   ],
   "source": [
    "for r in range(1,5+1):\n",
    "    for s in range(1,5-r+1):\n",
    "        print(\" \",end=\"\")\n",
    "    for c in range(1,r+1):\n",
    "        print(\"$\",end='')\n",
    "    print()    "
   ]
  },
  {
   "cell_type": "code",
   "execution_count": 6,
   "metadata": {},
   "outputs": [
    {
     "name": "stdout",
     "output_type": "stream",
     "text": [
      "$$$$$\n",
      " $$$$\n",
      "  $$$\n",
      "   $$\n",
      "    $\n"
     ]
    }
   ],
   "source": [
    "for r in range(1,5+1):\n",
    "    for s in range(1,r-1+1):\n",
    "        print(\" \",end = \"\")\n",
    "    for c in range(1,6-r+1):\n",
    "        print(\"$\",end=\"\")\n",
    "    print() \n",
    "    \n"
   ]
  },
  {
   "cell_type": "markdown",
   "metadata": {},
   "source": [
    "# second method for print the pattern of star"
   ]
  },
  {
   "cell_type": "code",
   "execution_count": 2,
   "metadata": {},
   "outputs": [
    {
     "name": "stdout",
     "output_type": "stream",
     "text": [
      "%\n",
      "%%\n",
      "%%%\n",
      "%%%%\n",
      "%%%%%\n"
     ]
    }
   ],
   "source": [
    "for r in range(1,5+1):\n",
    "    print(r*\"%\")"
   ]
  },
  {
   "cell_type": "code",
   "execution_count": 13,
   "metadata": {},
   "outputs": [
    {
     "name": "stdout",
     "output_type": "stream",
     "text": [
      "%%%%%\n",
      "%%%%\n",
      "%%%\n",
      "%%\n",
      "%\n"
     ]
    }
   ],
   "source": [
    "for r in range(5,0,-1):\n",
    "    print(r*\"%\")"
   ]
  },
  {
   "cell_type": "code",
   "execution_count": 14,
   "metadata": {},
   "outputs": [
    {
     "name": "stdout",
     "output_type": "stream",
     "text": [
      "    &\n",
      "   &&\n",
      "  &&&\n",
      " &&&&\n",
      "&&&&&\n"
     ]
    }
   ],
   "source": [
    "for r in range(1,5+1):\n",
    "    print((5-r)*\" \"+r*\"&\")"
   ]
  },
  {
   "cell_type": "code",
   "execution_count": 16,
   "metadata": {},
   "outputs": [
    {
     "name": "stdout",
     "output_type": "stream",
     "text": [
      "&&&&&\n",
      " &&&&\n",
      "  &&&\n",
      "   &&\n",
      "    &\n"
     ]
    }
   ],
   "source": [
    "for r in range(5,0,-1):\n",
    "    print((5-r)*\" \"+r*\"&\")"
   ]
  },
  {
   "cell_type": "code",
   "execution_count": 24,
   "metadata": {},
   "outputs": [
    {
     "name": "stdout",
     "output_type": "stream",
     "text": [
      "enter a row:5\n",
      "&\n",
      "&&\n",
      "&&&\n",
      "&&&&\n",
      "&&&&&\n"
     ]
    }
   ],
   "source": [
    "# using  user input print a pattern \n",
    "\n",
    "n =int(input(\"enter a row:\"))\n",
    "for r in range(1,n+1):\n",
    "    print(r*\"&\")"
   ]
  },
  {
   "cell_type": "code",
   "execution_count": 2,
   "metadata": {},
   "outputs": [
    {
     "name": "stdout",
     "output_type": "stream",
     "text": [
      "   * \n",
      "  * * \n",
      " * * * \n",
      "* * * * \n"
     ]
    }
   ],
   "source": [
    "# print pyramid pattewrn\n",
    "def pyramid(num):\n",
    "    for r in range(1,num+1):\n",
    "        print(' '*(num-r)+\"* \"*(r))\n",
    "pyramid(4)"
   ]
  },
  {
   "cell_type": "code",
   "execution_count": 8,
   "metadata": {},
   "outputs": [
    {
     "name": "stdout",
     "output_type": "stream",
     "text": [
      "   * \n",
      "  * * \n",
      " * * * \n",
      "* * * * \n"
     ]
    }
   ],
   "source": [
    "def pyramid(row):\n",
    "    for r in range(0,row):\n",
    "        print(\" \"*(row-r-1)+'* '*(r+1))\n",
    "pyramid(4)        \n",
    "        "
   ]
  },
  {
   "cell_type": "code",
   "execution_count": 2,
   "metadata": {},
   "outputs": [
    {
     "name": "stdout",
     "output_type": "stream",
     "text": [
      "   * \n",
      "  * * \n",
      " * * * \n",
      "* * * * \n",
      " * * * \n",
      "  * * \n",
      "   * \n",
      "      * \n",
      "     * * \n",
      "    * * * \n",
      "   * * * * \n",
      "  * * * * * \n",
      " * * * * * * \n",
      "* * * * * * * \n",
      " * * * * * * \n",
      "  * * * * * \n",
      "   * * * * \n",
      "    * * * \n",
      "     * * \n",
      "      * \n"
     ]
    }
   ],
   "source": [
    "def diamond(row):\n",
    "    for i in range(0,row):\n",
    "        print(\" \"*(row-i-1)+\"* \"*(i+1))\n",
    "    for j in range(row-1,0,-1):\n",
    "        print(\" \"*(row-j)+\"* \"*(j))\n",
    "        \n",
    "diamond(4)  \n",
    "\n",
    "diamond(7)"
   ]
  },
  {
   "cell_type": "code",
   "execution_count": null,
   "metadata": {
    "collapsed": true
   },
   "outputs": [],
   "source": []
  }
 ],
 "metadata": {
  "kernelspec": {
   "display_name": "Python 3",
   "language": "python",
   "name": "python3"
  },
  "language_info": {
   "codemirror_mode": {
    "name": "ipython",
    "version": 3
   },
   "file_extension": ".py",
   "mimetype": "text/x-python",
   "name": "python",
   "nbconvert_exporter": "python",
   "pygments_lexer": "ipython3",
   "version": "3.8.5"
  }
 },
 "nbformat": 4,
 "nbformat_minor": 2
}
