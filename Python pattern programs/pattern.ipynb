{
 "cells": [
  {
   "cell_type": "code",
   "execution_count": 1,
   "metadata": {},
   "outputs": [
    {
     "name": "stdout",
     "output_type": "stream",
     "text": [
      "python\n",
      "p\n",
      "py\n",
      "pyt\n",
      "pyth\n",
      "pytho\n",
      "python\n"
     ]
    }
   ],
   "source": [
    "# pattern\n",
    "string = input()\n",
    "lenth = len(string)\n",
    "for row in range (lenth):\n",
    "    for col in range(0,row+1):\n",
    "        print(string[col],end ='')\n",
    "    print()    "
   ]
  },
  {
   "cell_type": "code",
   "execution_count": 2,
   "metadata": {},
   "outputs": [
    {
     "name": "stdout",
     "output_type": "stream",
     "text": [
      "python\n",
      "python\n",
      "pytho\n",
      "pyth\n",
      "pyt\n",
      "py\n",
      "p\n"
     ]
    }
   ],
   "source": [
    "# pattern\n",
    "string = input()\n",
    "lenth = len(string)\n",
    "for row in range (lenth,0,-1):\n",
    "    for col in range(0,row):\n",
    "        print(string[col],end ='')\n",
    "    print()    "
   ]
  },
  {
   "cell_type": "code",
   "execution_count": 3,
   "metadata": {},
   "outputs": [
    {
     "name": "stdout",
     "output_type": "stream",
     "text": [
      "python\n",
      "     p\n",
      "    py\n",
      "   pyt\n",
      "  pyth\n",
      " pytho\n",
      "python\n"
     ]
    }
   ],
   "source": [
    "string = input()\n",
    "lenth = len(string)\n",
    "\n",
    "for r in range(0,lenth):\n",
    "    for s in range(0,(5-r)):\n",
    "        print(\" \",end = '')\n",
    "    for c in range(0,r+1):\n",
    "        print(string[c],end = '')\n",
    "    print()"
   ]
  },
  {
   "cell_type": "code",
   "execution_count": 4,
   "metadata": {},
   "outputs": [
    {
     "name": "stdout",
     "output_type": "stream",
     "text": [
      "python\n",
      "python\n",
      " pytho\n",
      "  pyth\n",
      "   pyt\n",
      "    py\n",
      "     p\n"
     ]
    }
   ],
   "source": [
    "strinpythong = input()\n",
    "lenth = len(string)\n",
    "\n",
    "for r in range(lenth,0,-1):\n",
    "    for s in range(0,(6-r)):\n",
    "        print(\" \",end = '')\n",
    "    for c in range(0,r):\n",
    "        print(string[c],end = '')\n",
    "    print()    "
   ]
  },
  {
   "cell_type": "markdown",
   "metadata": {},
   "source": [
    "# second method\n"
   ]
  },
  {
   "cell_type": "code",
   "execution_count": 5,
   "metadata": {},
   "outputs": [
    {
     "name": "stdout",
     "output_type": "stream",
     "text": [
      "python\n",
      "\n",
      "p\n",
      "py\n",
      "pyt\n",
      "pyth\n",
      "pytho\n",
      "python\n"
     ]
    }
   ],
   "source": [
    "# second m,ethod\n",
    "string = input()\n",
    "lenth = len(string)\n",
    "for r in range(0,lenth+1):\n",
    "    print(string[:r])\n",
    "    "
   ]
  },
  {
   "cell_type": "code",
   "execution_count": 6,
   "metadata": {},
   "outputs": [
    {
     "name": "stdout",
     "output_type": "stream",
     "text": [
      "python\n",
      "python\n",
      "pytho\n",
      "pyth\n",
      "pyt\n",
      "py\n",
      "p\n"
     ]
    }
   ],
   "source": [
    "# second\n",
    "string = input()\n",
    "lenth = len(string)\n",
    "for c in range(lenth,0,-1):\n",
    "    print(string[:c])"
   ]
  },
  {
   "cell_type": "code",
   "execution_count": 7,
   "metadata": {},
   "outputs": [
    {
     "name": "stdout",
     "output_type": "stream",
     "text": [
      "python\n",
      "      \n",
      "     p\n",
      "    py\n",
      "   pyt\n",
      "  pyth\n",
      " pytho\n",
      "python\n"
     ]
    }
   ],
   "source": [
    "#second\n",
    "string = input()\n",
    "lenth = len(string)\n",
    "for r in range(0,lenth+1):\n",
    "    print((6-r)*\" \"+string[:r])\n",
    "    "
   ]
  },
  {
   "cell_type": "code",
   "execution_count": 8,
   "metadata": {},
   "outputs": [
    {
     "name": "stdout",
     "output_type": "stream",
     "text": [
      "python\n",
      "python\n",
      " pytho\n",
      "  pyth\n",
      "   pyt\n",
      "    py\n",
      "     p\n"
     ]
    }
   ],
   "source": [
    "# second method\n",
    "string = input()\n",
    "lenth = len(string)\n",
    "for r in range(lenth,0,-1):\n",
    "    print((6-r)*\" \"+string[:r])"
   ]
  },
  {
   "cell_type": "code",
   "execution_count": null,
   "metadata": {},
   "outputs": [],
   "source": []
  },
  {
   "cell_type": "code",
   "execution_count": null,
   "metadata": {},
   "outputs": [],
   "source": []
  },
  {
   "cell_type": "code",
   "execution_count": null,
   "metadata": {},
   "outputs": [],
   "source": []
  },
  {
   "cell_type": "code",
   "execution_count": 9,
   "metadata": {},
   "outputs": [
    {
     "name": "stdout",
     "output_type": "stream",
     "text": [
      "4\n",
      "1\n",
      "12\n",
      "123\n",
      "1234\n"
     ]
    }
   ],
   "source": [
    "row =int(input())\n",
    "for r in range(1,row+1):\n",
    "    for c in range(1,r+1):\n",
    "        print(c,end = '')\n",
    "    print()    "
   ]
  },
  {
   "cell_type": "code",
   "execution_count": 10,
   "metadata": {},
   "outputs": [
    {
     "name": "stdout",
     "output_type": "stream",
     "text": [
      "4\n",
      "1234\n",
      "123\n",
      "12\n",
      "1\n"
     ]
    }
   ],
   "source": [
    "row =int(input())\n",
    "for r in range(row,0,-1):\n",
    "    for c in range(1,r+1):\n",
    "        print(c,end = '')\n",
    "    print()    "
   ]
  },
  {
   "cell_type": "code",
   "execution_count": 11,
   "metadata": {},
   "outputs": [
    {
     "name": "stdout",
     "output_type": "stream",
     "text": [
      "4\n",
      "   1\n",
      "  12\n",
      " 123\n",
      "1234\n"
     ]
    }
   ],
   "source": [
    "row =int(input())\n",
    "for r in range(1,row+1):\n",
    "    for s in range(1,row-r+1):\n",
    "        print(\" \",end = '')\n",
    "    for c in range(1,r+1):\n",
    "        print(c,end = '')\n",
    "    print()    "
   ]
  },
  {
   "cell_type": "code",
   "execution_count": 12,
   "metadata": {},
   "outputs": [
    {
     "name": "stdout",
     "output_type": "stream",
     "text": [
      "4\n",
      "1234\n",
      " 123\n",
      "  12\n",
      "   1\n"
     ]
    }
   ],
   "source": [
    "row = int(input())\n",
    "for r in range(row,0,-1):\n",
    "    for s in range(1,row-r+1):\n",
    "        print(' ',end = '')\n",
    "    for c in range(1,r+1):\n",
    "        print(c,end = '')\n",
    "    print()    "
   ]
  },
  {
   "cell_type": "code",
   "execution_count": 13,
   "metadata": {},
   "outputs": [
    {
     "name": "stdout",
     "output_type": "stream",
     "text": [
      "4\n",
      "1\n",
      "22\n",
      "333\n",
      "4444\n"
     ]
    }
   ],
   "source": [
    "row = int(input())\n",
    "for r in range(1,row+1):\n",
    "    for c in range(1,r+1):\n",
    "        print(r,end = '')\n",
    "    print()    "
   ]
  },
  {
   "cell_type": "code",
   "execution_count": 14,
   "metadata": {},
   "outputs": [
    {
     "name": "stdout",
     "output_type": "stream",
     "text": [
      "4\n",
      "4444\n",
      "333\n",
      "22\n",
      "1\n"
     ]
    }
   ],
   "source": [
    "row = int(input())\n",
    "for r in range(row,0,-1):\n",
    "    for c in range(1,r+1):\n",
    "        print(r,end = '')\n",
    "    print()    "
   ]
  },
  {
   "cell_type": "code",
   "execution_count": 15,
   "metadata": {},
   "outputs": [
    {
     "name": "stdout",
     "output_type": "stream",
     "text": [
      "4\n",
      "   1\n",
      "  22\n",
      " 333\n",
      "4444\n"
     ]
    }
   ],
   "source": [
    "row = int(input())\n",
    "for r in range(1,row+1):\n",
    "    for s in range(1,row-r+1):\n",
    "        print(\" \",end='')\n",
    "    for c in range(1,r+1):\n",
    "        print(r,end = '')\n",
    "    print()    "
   ]
  },
  {
   "cell_type": "code",
   "execution_count": 16,
   "metadata": {},
   "outputs": [
    {
     "name": "stdout",
     "output_type": "stream",
     "text": [
      "4\n",
      "4444\n",
      " 333\n",
      "  22\n",
      "   1\n"
     ]
    }
   ],
   "source": [
    "row = int(input())\n",
    "for r in range(row,0,-1):\n",
    "    for s in range(1,row-r+1):\n",
    "        print(' ',end = '')\n",
    "    for c in range(1,r+1):\n",
    "        print(r,end = '')\n",
    "    print()    "
   ]
  },
  {
   "cell_type": "code",
   "execution_count": null,
   "metadata": {
    "collapsed": true
   },
   "outputs": [],
   "source": []
  }
 ],
 "metadata": {
  "kernelspec": {
   "display_name": "Python 3",
   "language": "python",
   "name": "python3"
  },
  "language_info": {
   "codemirror_mode": {
    "name": "ipython",
    "version": 3
   },
   "file_extension": ".py",
   "mimetype": "text/x-python",
   "name": "python",
   "nbconvert_exporter": "python",
   "pygments_lexer": "ipython3",
   "version": "3.8.5"
  }
 },
 "nbformat": 4,
 "nbformat_minor": 2
}
